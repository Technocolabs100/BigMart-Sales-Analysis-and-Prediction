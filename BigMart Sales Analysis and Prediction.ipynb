{
 "cells": [
  {
   "cell_type": "markdown",
   "id": "884d05ae",
   "metadata": {},
   "source": [
    "**PROBLEM STATEMENT** :\n",
    "The data scientists at BigMart have collected 2013 sales data for 1559 products across 10 stores in different cities. Also, certain attributes of each product and store have been defined. The aim is to build a predictive model and find out the sales of each product at a particular store. \n",
    "Using this model, BigMart will try to understand the properties of products and stores which play a key role in increasing sales."
   ]
  },
  {
   "cell_type": "markdown",
   "id": "d5389cbd",
   "metadata": {},
   "source": [
    "**HYPOTHESES GENERATION**:\n",
    ">Product level hypotheses:\n",
    "1. >Brand                : Branded products have more trust of the customers so they should have high sales.\n",
    "2. >Visibility in Store  : The location of the product placement also depends on the sales.\n",
    "3. >Display Area        : Products that are placed at an attention-catching place should have more sales.\n",
    "4. >Utility             : Daily use products have a higher tendency to sell compared to other products.\n",
    "5. >Packaging           : Quality packaging can attract customers and sell more.\n",
    "\n",
    ">Store Level Hypotheses:\n",
    "1. >City type         : Stores located in urban cities should have higher sales.\n",
    "2. >Store Capacity    : One-stop shops are big in size so their sell should be high.\n",
    "3. >Population density: Densely populated areas have high demands so the store located in these areas should have higher sales.\n",
    "4. >Marketing         : Stores having a good marketing division can attract customers through the right offers."
   ]
  },
  {
   "cell_type": "code",
   "execution_count": null,
   "id": "ee9279a0",
   "metadata": {},
   "outputs": [],
   "source": [
    "#Loading packages\n",
    "import numpy as np\n",
    "import pandas as pd\n",
    "import matplotlib.pyplot as plt\n",
    "import seaborn as sns\n",
    "%matplotlib inline"
   ]
  },
  {
   "cell_type": "code",
   "execution_count": null,
   "id": "8ee3d2bf",
   "metadata": {},
   "outputs": [],
   "source": [
    "#Loading Data\n",
    "train = pd.read_csv(\"D:\\9961_14084_bundle_archive\\Train.csv\")\n",
    "test = pd.read_csv(\"D:\\9961_14084_bundle_archive\\Test.csv\")"
   ]
  },
  {
   "cell_type": "code",
   "execution_count": null,
   "id": "c1fb0eb0",
   "metadata": {},
   "outputs": [],
   "source": [
    "train.shape ,test.shape"
   ]
  },
  {
   "cell_type": "code",
   "execution_count": null,
   "id": "a49ad1f9",
   "metadata": {},
   "outputs": [],
   "source": [
    "train.head()"
   ]
  },
  {
   "cell_type": "code",
   "execution_count": null,
   "id": "8d97221f",
   "metadata": {},
   "outputs": [],
   "source": [
    " test.head()"
   ]
  },
  {
   "cell_type": "code",
   "execution_count": null,
   "id": "2ad4d43a",
   "metadata": {},
   "outputs": [],
   "source": [
    "train.describe()"
   ]
  },
  {
   "cell_type": "code",
   "execution_count": null,
   "id": "7683b5ba",
   "metadata": {},
   "outputs": [],
   "source": [
    "test.describe()"
   ]
  },
  {
   "cell_type": "markdown",
   "id": "09055d18",
   "metadata": {},
   "source": [
    "**Exploratory Data Analysis**"
   ]
  },
  {
   "cell_type": "markdown",
   "id": "12c85596",
   "metadata": {},
   "source": [
    "**Univariate**"
   ]
  },
  {
   "cell_type": "code",
   "execution_count": null,
   "id": "ad8f7a30",
   "metadata": {},
   "outputs": [],
   "source": [
    "sns.displot(train['Item_Outlet_Sales'])"
   ]
  },
  {
   "cell_type": "markdown",
   "id": "e6a133f2",
   "metadata": {},
   "source": [
    "**Bivariate**"
   ]
  },
  {
   "cell_type": "code",
   "execution_count": null,
   "id": "779ad2bf",
   "metadata": {},
   "outputs": [],
   "source": [
    "plt.figure(figsize=(12,7))\n",
    "plt.plot(train.Item_Weight,train['Item_Outlet_Sales'],'.',alpha=0.3)\n",
    "plt.xlabel(\"Item_Weight\")\n",
    "plt.ylabel(\"Item_Outlet_Sales\")\n",
    "plt.title(\"Item_Weight and Item_Outlet_Sales Analysis\")"
   ]
  },
  {
   "cell_type": "code",
   "execution_count": null,
   "id": "54b106da",
   "metadata": {},
   "outputs": [],
   "source": [
    "plt.figure(figsize=(12,7))\n",
    "plt.plot(train.Item_Visibility,train['Item_Outlet_Sales'],'.',alpha=0.3)\n",
    "plt.xlabel(\"Item_Visibility\")\n",
    "plt.ylabel(\"Item_Outlet_Sales\")\n",
    "plt.title(\"Item_Visibility and Item_Outlet_Sales Analysis\")"
   ]
  },
  {
   "cell_type": "code",
   "execution_count": null,
   "id": "55b183f5",
   "metadata": {},
   "outputs": [],
   "source": [
    "sns.scatterplot(x=train.Item_Fat_Content, y=train.Item_Outlet_Sales)\n"
   ]
  },
  {
   "cell_type": "code",
   "execution_count": null,
   "id": "9ee1259b",
   "metadata": {},
   "outputs": [],
   "source": [
    "corr_matrix=train.corr()\n",
    "sns.heatmap(corr_matrix,annot=True,cmap='coolwarm')"
   ]
  },
  {
   "cell_type": "markdown",
   "id": "21a7964a",
   "metadata": {},
   "source": [
    "**Multivariate**"
   ]
  },
  {
   "cell_type": "code",
   "execution_count": null,
   "id": "f0a5d2ad",
   "metadata": {},
   "outputs": [],
   "source": [
    "sns.scatterplot(data=train, x=\"Item_MRP\", y=\"Item_Outlet_Sales\", hue=\"Outlet_Size\")\n"
   ]
  },
  {
   "cell_type": "code",
   "execution_count": null,
   "id": "9d8d5beb",
   "metadata": {},
   "outputs": [],
   "source": [
    "# Create a bar plot of Outlet_Location_Type vs Item_Outlet_Sales\n",
    "sns.barplot(data=train, x='Outlet_Location_Type', y='Item_Outlet_Sales', hue='Outlet_Size')"
   ]
  },
  {
   "cell_type": "code",
   "execution_count": null,
   "id": "7fa31fe2",
   "metadata": {},
   "outputs": [],
   "source": [
    "sns.scatterplot(data=train, x=\"Item_MRP\", y=\"Item_Outlet_Sales\", hue=\"Item_Weight\", size=\"Item_Visibility\")"
   ]
  },
  {
   "cell_type": "code",
   "execution_count": null,
   "id": "fd461f1e",
   "metadata": {},
   "outputs": [],
   "source": [
    "sns.catplot(x=\"Item_Type\", y=\"Item_Outlet_Sales\", hue=\"Item_Fat_Content\", col=\"Outlet_Identifier\", data=train, kind=\"bar\", height=4, aspect=0.7)"
   ]
  },
  {
   "cell_type": "code",
   "execution_count": null,
   "id": "1f759352",
   "metadata": {},
   "outputs": [],
   "source": [
    "# join train and test dataset\n",
    "train['source'] ='train'\n",
    "test['source']='test'\n",
    "data = pd.concat([train,test])\n",
    "data.shape"
   ]
  },
  {
   "cell_type": "code",
   "execution_count": null,
   "id": "ade432d9",
   "metadata": {},
   "outputs": [],
   "source": [
    "data['Item_Outlet_Sales'].describe()"
   ]
  },
  {
   "cell_type": "code",
   "execution_count": null,
   "id": "3af169e6",
   "metadata": {},
   "outputs": [],
   "source": [
    "data.apply(lambda x: len(x.unique()))"
   ]
  },
  {
   "cell_type": "markdown",
   "id": "a0e81e1f",
   "metadata": {},
   "source": [
    "This tell us that there are 1559 products and 10 outlets/store(which was mentioned in problem statement).And that Item_Type has 16 unique values."
   ]
  },
  {
   "cell_type": "code",
   "execution_count": null,
   "id": "b0572673",
   "metadata": {},
   "outputs": [],
   "source": [
    "#look at categorical and numerical variables\n",
    "data.dtypes"
   ]
  },
  {
   "cell_type": "markdown",
   "id": "0741fd5e",
   "metadata": {},
   "source": [
    "**Data Cleaning**"
   ]
  },
  {
   "cell_type": "code",
   "execution_count": null,
   "id": "b0832752",
   "metadata": {},
   "outputs": [],
   "source": [
    "#Finding missing values\n",
    "#Is there missing values or not in data(train and test)\n",
    "train.isnull().values.any() ,test.isnull().values.any()"
   ]
  },
  {
   "cell_type": "code",
   "execution_count": null,
   "id": "f631eb27",
   "metadata": {
    "scrolled": true
   },
   "outputs": [],
   "source": [
    "train.isnull().sum() ,test.isnull().sum()"
   ]
  },
  {
   "cell_type": "code",
   "execution_count": null,
   "id": "2df3a7fc",
   "metadata": {},
   "outputs": [],
   "source": [
    "data.isnull().sum()"
   ]
  },
  {
   "cell_type": "markdown",
   "id": "6b3d039e",
   "metadata": {},
   "source": [
    "`In test dataset Item_Outlet_Sales contain missing value which is target column because test data doen't have that column.\n",
    "In train dataset Item_Weight and Outlet_Size contain missing values so We will fill missing values in Item_Weight column with mean because itis a Numerical Feature and Outlet_Size is a Categorical Feature for this we will use mode to fill missing values.`"
   ]
  },
  {
   "cell_type": "code",
   "execution_count": null,
   "id": "585966a4",
   "metadata": {},
   "outputs": [],
   "source": [
    "data[\"Item_Weight\"].mean()"
   ]
  },
  {
   "cell_type": "code",
   "execution_count": null,
   "id": "7413a1ba",
   "metadata": {},
   "outputs": [],
   "source": [
    "data[\"Item_Weight\"]=data[\"Item_Weight\"].fillna(np.mean(data[\"Item_Weight\"]))"
   ]
  },
  {
   "cell_type": "code",
   "execution_count": null,
   "id": "c18831ca",
   "metadata": {},
   "outputs": [],
   "source": [
    "data[\"Item_Weight\"].isnull().sum()"
   ]
  },
  {
   "cell_type": "code",
   "execution_count": null,
   "id": "6aca5603",
   "metadata": {},
   "outputs": [],
   "source": [
    "data[\"Outlet_Size\"].mode()"
   ]
  },
  {
   "cell_type": "code",
   "execution_count": null,
   "id": "a5f286a2",
   "metadata": {},
   "outputs": [],
   "source": [
    "data[\"Outlet_Size\"]=data[\"Outlet_Size\"].replace(np.nan, 'Medium')"
   ]
  },
  {
   "cell_type": "code",
   "execution_count": null,
   "id": "7cbdf6e6",
   "metadata": {},
   "outputs": [],
   "source": [
    "data[\"Outlet_Size\"].isnull().sum()"
   ]
  },
  {
   "cell_type": "code",
   "execution_count": null,
   "id": "439d53e4",
   "metadata": {},
   "outputs": [],
   "source": [
    "data.plot(kind='box',subplots=True,layout=(3,3),sharex=False,sharey=False,figsize=(15,15))\n",
    "sns.set(font_scale=1.5)"
   ]
  },
  {
   "cell_type": "code",
   "execution_count": null,
   "id": "de6ecd30",
   "metadata": {},
   "outputs": [],
   "source": [
    "data['Item_Visibility'].value_counts()"
   ]
  },
  {
   "cell_type": "code",
   "execution_count": null,
   "id": "ae3c30a6",
   "metadata": {},
   "outputs": [],
   "source": [
    "data['Item_Visibility'].describe()"
   ]
  },
  {
   "cell_type": "markdown",
   "id": "3e2fc71f",
   "metadata": {},
   "source": [
    "Item_Visibility had minimum value 0. So this make no sense ,lets consider it as missing value and impute with its mean. "
   ]
  },
  {
   "cell_type": "code",
   "execution_count": null,
   "id": "6599b05f",
   "metadata": {},
   "outputs": [],
   "source": [
    "#Determine average visibility of a product\n",
    "visibility_avg= data.pivot_table(values='Item_Visibility', index='Item_Identifier')\n",
    "#Impute 0 values with mean visibility of that product\n",
    "missing_values=(data['Item_Visibility']==0)\n",
    "print('Number of 0 values initially: %d'%sum(missing_values))\n",
    "data.loc[missing_values,'Item_Visibility']=data.loc[missing_values,'Item_Identifier'].apply(lambda x: visibility_avg.at[x,'Item_Visibility'])\n",
    "print('Number of 0 values after modification: %d'%sum(data['Item_Visibility']==0))"
   ]
  },
  {
   "cell_type": "markdown",
   "id": "8137143d",
   "metadata": {},
   "source": [
    "**Feature Egineering**"
   ]
  },
  {
   "cell_type": "code",
   "execution_count": null,
   "id": "cfb82912",
   "metadata": {},
   "outputs": [],
   "source": [
    "#Modify categories of Item_Fat_Content\n",
    "data['Item_Fat_Content'].value_counts()"
   ]
  },
  {
   "cell_type": "code",
   "execution_count": null,
   "id": "82cb5ba3",
   "metadata": {},
   "outputs": [],
   "source": [
    "data['Item_Fat_Content']=data['Item_Fat_Content'].replace({'LF':'Low Fat','low fat':'Low Fat','reg':'Regular'})\n",
    "data['Item_Fat_Content'].value_counts()"
   ]
  },
  {
   "cell_type": "code",
   "execution_count": null,
   "id": "e8417c25",
   "metadata": {},
   "outputs": [],
   "source": [
    "data['Outlet_Establishment_Year'].value_counts()"
   ]
  },
  {
   "cell_type": "code",
   "execution_count": null,
   "id": "ee9fb165",
   "metadata": {},
   "outputs": [],
   "source": [
    "#Create new column Outlet_Years Remember the data is from 2013\n",
    "data['Outlet_Years']=2013-data['Outlet_Establishment_Year']\n",
    "data['Outlet_Years'].describe()"
   ]
  },
  {
   "cell_type": "code",
   "execution_count": null,
   "id": "425d83a1",
   "metadata": {},
   "outputs": [],
   "source": [
    "data['Item_Identifier'].value_counts()"
   ]
  },
  {
   "cell_type": "code",
   "execution_count": null,
   "id": "bed5feeb",
   "metadata": {},
   "outputs": [],
   "source": [
    "#Create a broad category of Type of Item ID\n",
    "#Item_Type variable has 16 categories which might prove to be very useful in anlysis.So it is good idea to combine them.\n",
    "data['Item_Type_Combined']=data['Item_Identifier'].apply(lambda x: x[0:2])\n",
    "#Rename them to more intuitive categories\n",
    "data['Item_Type_Combined']=data['Item_Type_Combined'].map({'FD':'Food','NC':'Non-Consumble','DR':'Drinks'})\n",
    "data['Item_Type_Combined'].value_counts()"
   ]
  },
  {
   "cell_type": "markdown",
   "id": "ec9c6ec3",
   "metadata": {},
   "source": [
    "**Outliers Handling**"
   ]
  },
  {
   "cell_type": "code",
   "execution_count": null,
   "id": "6bdd4739",
   "metadata": {},
   "outputs": [],
   "source": [
    "data['Item_Visibility']=np.log(data['Item_Visibility'])"
   ]
  },
  {
   "cell_type": "code",
   "execution_count": null,
   "id": "41980d28",
   "metadata": {},
   "outputs": [],
   "source": [
    "data['Item_Outlet_Sales']=np.log(data['Item_Outlet_Sales'])"
   ]
  },
  {
   "cell_type": "code",
   "execution_count": null,
   "id": "d7137f90",
   "metadata": {},
   "outputs": [],
   "source": [
    "#label encoding for Categorical Feature\n",
    "numerical_columns = [col for col in data.columns if data.dtypes[col]!='object']\n",
    "print('Numerical Features are:',numerical_columns)"
   ]
  },
  {
   "cell_type": "code",
   "execution_count": null,
   "id": "46d9726c",
   "metadata": {},
   "outputs": [],
   "source": [
    "categorical_columns = [col for col in data.columns if data.dtypes[col]=='object']\n",
    "print('Categorical Features are:',categorical_columns)"
   ]
  },
  {
   "cell_type": "code",
   "execution_count": null,
   "id": "292f4c3b",
   "metadata": {},
   "outputs": [],
   "source": [
    "from sklearn.preprocessing import LabelEncoder\n"
   ]
  },
  {
   "cell_type": "code",
   "execution_count": null,
   "id": "7b42cf06",
   "metadata": {},
   "outputs": [],
   "source": [
    "le = LabelEncoder()\n",
    "#New variable for Outlet\n",
    "data['Outlet']= le.fit_transform(data['Outlet_Identifier'])"
   ]
  },
  {
   "cell_type": "code",
   "execution_count": null,
   "id": "ea158cf4",
   "metadata": {},
   "outputs": [],
   "source": [
    "var_mod=['Item_Type_Combined','Item_Fat_Content', 'Outlet_Size','Outlet_Location_Type','Outlet_Type']"
   ]
  },
  {
   "cell_type": "code",
   "execution_count": null,
   "id": "96a9460b",
   "metadata": {},
   "outputs": [],
   "source": [
    "for i in var_mod:\n",
    "    data[i]=le.fit_transform(data[i])"
   ]
  },
  {
   "cell_type": "code",
   "execution_count": null,
   "id": "62e5035e",
   "metadata": {},
   "outputs": [],
   "source": [
    "#One Hot Encodeing\n",
    "data = pd.get_dummies(data, columns=['Item_Fat_Content','Outlet_Size','Outlet_Location_Type','Outlet_Type','Outlet','Item_Type_Combined'])"
   ]
  },
  {
   "cell_type": "code",
   "execution_count": null,
   "id": "2e86411f",
   "metadata": {},
   "outputs": [],
   "source": [
    "# Drop columns which combined convert different type\n",
    "data.drop(['Item_Type','Outlet_Establishment_Year'],axis=1,inplace=True)\n",
    "\n",
    "# Divide data into train and test\n",
    "train= data.loc[data['source']==\"train\"]\n",
    "test=data.loc[data['source']==\"test\"]\n",
    "#Drop unnecessary columns\n",
    "test.drop(['Item_Outlet_Sales','source'],axis=1,inplace=True)\n",
    "train.drop(['source'],axis=1,inplace=True)\n",
    "#Export files as modified versions\n",
    "train.to_csv(\"train_modified.csv\",index=False)\n",
    "test.to_csv(\"test_modified.csv\",index=False)\n",
    "X_test=test.drop(['Item_Identifier','Outlet_Identifier'],axis=1).copy()\n",
    "X_train =train.drop(['Item_Outlet_Sales','Item_Identifier','Outlet_Identifier'],axis=1)\n",
    "y_train =train['Item_Outlet_Sales']\n"
   ]
  },
  {
   "cell_type": "markdown",
   "id": "36adc52a",
   "metadata": {},
   "source": [
    "**Data Modeling**"
   ]
  },
  {
   "cell_type": "code",
   "execution_count": null,
   "id": "7483b3a0",
   "metadata": {},
   "outputs": [],
   "source": [
    "#Model Building\n",
    "from sklearn.model_selection import train_test_split\n",
    "from sklearn.linear_model import LinearRegression,Ridge\n",
    "from sklearn.metrics import r2_score,mean_absolute_error,mean_squared_error,accuracy_score\n",
    "X_train,X_test,y_train,y_test=train_test_split(X_train,y_train,test_size=0.2,random_state=42)"
   ]
  },
  {
   "cell_type": "code",
   "execution_count": null,
   "id": "2d8e2607",
   "metadata": {},
   "outputs": [],
   "source": [
    "X_train.shape,X_test.shape,y_train.shape,y_test.shape"
   ]
  },
  {
   "cell_type": "code",
   "execution_count": null,
   "id": "72376ec9",
   "metadata": {},
   "outputs": [],
   "source": [
    "model=LinearRegression()\n",
    "model.fit(X_train,y_train)"
   ]
  },
  {
   "cell_type": "code",
   "execution_count": null,
   "id": "c14f4050",
   "metadata": {},
   "outputs": [],
   "source": [
    "model_pred= model.predict(X_test)\n",
    "model_pred"
   ]
  },
  {
   "cell_type": "code",
   "execution_count": null,
   "id": "cc071b0a",
   "metadata": {},
   "outputs": [],
   "source": [
    "from sklearn.metrics import mean_squared_error\n",
    "model_rmse = np.sqrt(mean_squared_error(y_test, model_pred))\n",
    "model_mean=mean_absolute_error(y_test,model_pred)\n",
    "model_r2=r2_score(y_test,model_pred)\n",
    "print(\"MAE of LR model is:\",model_mean)\n",
    "print(\"R2 score of LR model is:\",model_r2)\n",
    "print('Linear Regression RMSE:', model_rmse)"
   ]
  },
  {
   "cell_type": "code",
   "execution_count": null,
   "id": "5d853f65",
   "metadata": {},
   "outputs": [],
   "source": [
    "model1=Ridge(alpha=0.1)\n",
    "model1.fit(X_train,y_train)"
   ]
  },
  {
   "cell_type": "code",
   "execution_count": null,
   "id": "4137c077",
   "metadata": {},
   "outputs": [],
   "source": [
    "y_pred_model1= model1.predict(X_test)"
   ]
  },
  {
   "cell_type": "code",
   "execution_count": null,
   "id": "7c26518d",
   "metadata": {},
   "outputs": [],
   "source": [
    "model1_rmse = np.sqrt(mean_squared_error(y_test, y_pred_model1))\n",
    "model1_mean=mean_absolute_error(y_test,y_pred_model1)\n",
    "model1_r2=r2_score(y_test,y_pred_model1)\n",
    "print(\"Ridge Regression MAE :\",model1_mean)\n",
    "print(\"Ridge Regression R2 score :\",model1_r2)\n",
    "print('Ridge Regression RMSE:', model1_rmse)"
   ]
  },
  {
   "cell_type": "code",
   "execution_count": null,
   "id": "78a41208",
   "metadata": {},
   "outputs": [],
   "source": [
    "from sklearn.ensemble import RandomForestRegressor"
   ]
  },
  {
   "cell_type": "code",
   "execution_count": null,
   "id": "18b78dc4",
   "metadata": {},
   "outputs": [],
   "source": [
    "model2=RandomForestRegressor()\n",
    "model2.fit(X_train,y_train)"
   ]
  },
  {
   "cell_type": "code",
   "execution_count": null,
   "id": "f8955450",
   "metadata": {},
   "outputs": [],
   "source": [
    "\n",
    "rf_reg = RandomForestRegressor(random_state=42)\n",
    "rf_reg.fit(X_train, y_train)\n",
    "y_pred = rf_reg.predict(X_test)\n",
    "\n",
    "rf_reg_rmse = np.sqrt(mean_squared_error(y_test, y_pred))\n",
    "rf_reg_mean=mean_absolute_error(y_test,y_pred)\n",
    "rf_reg_r2=r2_score(y_test,y_pred)\n",
    "print(\"Random Forest Regression MAE :\",rf_reg_mean)\n",
    "print(\"Random Forest Regression R2 score :\",rf_reg_r2)\n",
    "print('Random Forest Regression RMSE:', rf_reg_rmse)"
   ]
  },
  {
   "cell_type": "code",
   "execution_count": null,
   "id": "f51f7f23",
   "metadata": {},
   "outputs": [],
   "source": [
    "from xgboost import XGBRegressor\n"
   ]
  },
  {
   "cell_type": "code",
   "execution_count": null,
   "id": "f3372e6a",
   "metadata": {},
   "outputs": [],
   "source": [
    "model4=XGBRegressor()\n",
    "model4.fit(X_train,y_train)\n"
   ]
  },
  {
   "cell_type": "code",
   "execution_count": null,
   "id": "e65428d0",
   "metadata": {},
   "outputs": [],
   "source": [
    "y_pred_xgb=model4.predict(X_test)\n",
    "model4_rmse = np.sqrt(mean_squared_error(y_test, y_pred_xgb))\n",
    "model4_mean=mean_absolute_error(y_test,y_pred_xgb)\n",
    "model4_r2=r2_score(y_test,y_pred_xgb)\n",
    "print(\"XGB Regression MAE :\",model4_mean)\n",
    "print(\"XGB Regression R2 score :\",model4_r2)\n",
    "print('XGB Regression RMSE:', model4_rmse)"
   ]
  },
  {
   "cell_type": "code",
   "execution_count": null,
   "id": "d82c9c2b",
   "metadata": {},
   "outputs": [],
   "source": [
    "In Regression model and Ridge Regression model MAE=0.41,RMSE=0.53,r2=72 and Random Forest MAE=0.42,RMSE=0.55,r2=0.71"
   ]
  }
 ],
 "metadata": {
  "kernelspec": {
   "display_name": "Python 3 (ipykernel)",
   "language": "python",
   "name": "python3"
  },
  "language_info": {
   "codemirror_mode": {
    "name": "ipython",
    "version": 3
   },
   "file_extension": ".py",
   "mimetype": "text/x-python",
   "name": "python",
   "nbconvert_exporter": "python",
   "pygments_lexer": "ipython3",
   "version": "3.10.9"
  }
 },
 "nbformat": 4,
 "nbformat_minor": 5
}
