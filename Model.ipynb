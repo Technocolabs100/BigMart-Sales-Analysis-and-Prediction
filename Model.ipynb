{
  "nbformat": 4,
  "nbformat_minor": 0,
  "metadata": {
    "colab": {
      "provenance": []
    },
    "kernelspec": {
      "name": "python3",
      "display_name": "Python 3"
    },
    "language_info": {
      "name": "python"
    }
  },
  "cells": [
    {
      "cell_type": "markdown",
      "source": [
        "\n",
        "# Loading Packages and Data\n",
        "\n"
      ],
      "metadata": {
        "id": "bMFhtdGgAuum"
      }
    },
    {
      "cell_type": "code",
      "execution_count": 1,
      "metadata": {
        "id": "0UdToK87_bxD"
      },
      "outputs": [],
      "source": [
        "import pandas as pd \n",
        "import numpy as np \n",
        "import matplotlib.pyplot as plt \n",
        "import seaborn as sns \n",
        "from sklearn import preprocessing\n",
        "\n",
        "%matplotlib inline "
      ]
    },
    {
      "cell_type": "code",
      "source": [
        "data = pd.read_csv(\"/content/Train.csv\")"
      ],
      "metadata": {
        "id": "iRgtOyldAG3k"
      },
      "execution_count": 2,
      "outputs": []
    },
    {
      "cell_type": "markdown",
      "source": [
        "# Data Structure and Content"
      ],
      "metadata": {
        "id": "6kueRQShA_U6"
      }
    },
    {
      "cell_type": "code",
      "source": [
        "data.shape"
      ],
      "metadata": {
        "colab": {
          "base_uri": "https://localhost:8080/"
        },
        "id": "oEiCIsjDAsIo",
        "outputId": "563ae6c4-0b9c-4bbd-90d3-6408cd3239f1"
      },
      "execution_count": 5,
      "outputs": [
        {
          "output_type": "execute_result",
          "data": {
            "text/plain": [
              "(8523, 12)"
            ]
          },
          "metadata": {},
          "execution_count": 5
        }
      ]
    },
    {
      "cell_type": "code",
      "source": [
        "data.columns"
      ],
      "metadata": {
        "colab": {
          "base_uri": "https://localhost:8080/"
        },
        "id": "W2YM8iwRAsMG",
        "outputId": "cc7ee2df-94b2-4c1e-a9ac-dc25d33ca673"
      },
      "execution_count": 6,
      "outputs": [
        {
          "output_type": "execute_result",
          "data": {
            "text/plain": [
              "Index(['Item_Identifier', 'Item_Weight', 'Item_Fat_Content', 'Item_Visibility',\n",
              "       'Item_Type', 'Item_MRP', 'Outlet_Identifier',\n",
              "       'Outlet_Establishment_Year', 'Outlet_Size', 'Outlet_Location_Type',\n",
              "       'Outlet_Type', 'Item_Outlet_Sales'],\n",
              "      dtype='object')"
            ]
          },
          "metadata": {},
          "execution_count": 6
        }
      ]
    },
    {
      "cell_type": "code",
      "source": [
        "data.info()"
      ],
      "metadata": {
        "colab": {
          "base_uri": "https://localhost:8080/"
        },
        "id": "Pmqz-9zOAsUK",
        "outputId": "2fbe0c39-e6bb-4e61-bdd6-c599b9a60f2c"
      },
      "execution_count": 7,
      "outputs": [
        {
          "output_type": "stream",
          "name": "stdout",
          "text": [
            "<class 'pandas.core.frame.DataFrame'>\n",
            "RangeIndex: 8523 entries, 0 to 8522\n",
            "Data columns (total 12 columns):\n",
            " #   Column                     Non-Null Count  Dtype  \n",
            "---  ------                     --------------  -----  \n",
            " 0   Item_Identifier            8523 non-null   object \n",
            " 1   Item_Weight                7060 non-null   float64\n",
            " 2   Item_Fat_Content           8523 non-null   object \n",
            " 3   Item_Visibility            8523 non-null   float64\n",
            " 4   Item_Type                  8523 non-null   object \n",
            " 5   Item_MRP                   8523 non-null   float64\n",
            " 6   Outlet_Identifier          8523 non-null   object \n",
            " 7   Outlet_Establishment_Year  8523 non-null   int64  \n",
            " 8   Outlet_Size                6113 non-null   object \n",
            " 9   Outlet_Location_Type       8523 non-null   object \n",
            " 10  Outlet_Type                8523 non-null   object \n",
            " 11  Item_Outlet_Sales          8523 non-null   float64\n",
            "dtypes: float64(4), int64(1), object(7)\n",
            "memory usage: 799.2+ KB\n"
          ]
        }
      ]
    },
    {
      "cell_type": "code",
      "source": [
        "data.head()"
      ],
      "metadata": {
        "colab": {
          "base_uri": "https://localhost:8080/",
          "height": 357
        },
        "id": "czu039ljAsWx",
        "outputId": "0313bfd6-dfaa-4794-d1dd-369966c93099"
      },
      "execution_count": 8,
      "outputs": [
        {
          "output_type": "execute_result",
          "data": {
            "text/plain": [
              "  Item_Identifier  Item_Weight Item_Fat_Content  Item_Visibility  \\\n",
              "0           FDA15         9.30          Low Fat         0.016047   \n",
              "1           DRC01         5.92          Regular         0.019278   \n",
              "2           FDN15        17.50          Low Fat         0.016760   \n",
              "3           FDX07        19.20          Regular         0.000000   \n",
              "4           NCD19         8.93          Low Fat         0.000000   \n",
              "\n",
              "               Item_Type  Item_MRP Outlet_Identifier  \\\n",
              "0                  Dairy  249.8092            OUT049   \n",
              "1            Soft Drinks   48.2692            OUT018   \n",
              "2                   Meat  141.6180            OUT049   \n",
              "3  Fruits and Vegetables  182.0950            OUT010   \n",
              "4              Household   53.8614            OUT013   \n",
              "\n",
              "   Outlet_Establishment_Year Outlet_Size Outlet_Location_Type  \\\n",
              "0                       1999      Medium               Tier 1   \n",
              "1                       2009      Medium               Tier 3   \n",
              "2                       1999      Medium               Tier 1   \n",
              "3                       1998         NaN               Tier 3   \n",
              "4                       1987        High               Tier 3   \n",
              "\n",
              "         Outlet_Type  Item_Outlet_Sales  \n",
              "0  Supermarket Type1          3735.1380  \n",
              "1  Supermarket Type2           443.4228  \n",
              "2  Supermarket Type1          2097.2700  \n",
              "3      Grocery Store           732.3800  \n",
              "4  Supermarket Type1           994.7052  "
            ],
            "text/html": [
              "\n",
              "  <div id=\"df-bc5514f4-56e3-41be-b646-d9f220f41989\">\n",
              "    <div class=\"colab-df-container\">\n",
              "      <div>\n",
              "<style scoped>\n",
              "    .dataframe tbody tr th:only-of-type {\n",
              "        vertical-align: middle;\n",
              "    }\n",
              "\n",
              "    .dataframe tbody tr th {\n",
              "        vertical-align: top;\n",
              "    }\n",
              "\n",
              "    .dataframe thead th {\n",
              "        text-align: right;\n",
              "    }\n",
              "</style>\n",
              "<table border=\"1\" class=\"dataframe\">\n",
              "  <thead>\n",
              "    <tr style=\"text-align: right;\">\n",
              "      <th></th>\n",
              "      <th>Item_Identifier</th>\n",
              "      <th>Item_Weight</th>\n",
              "      <th>Item_Fat_Content</th>\n",
              "      <th>Item_Visibility</th>\n",
              "      <th>Item_Type</th>\n",
              "      <th>Item_MRP</th>\n",
              "      <th>Outlet_Identifier</th>\n",
              "      <th>Outlet_Establishment_Year</th>\n",
              "      <th>Outlet_Size</th>\n",
              "      <th>Outlet_Location_Type</th>\n",
              "      <th>Outlet_Type</th>\n",
              "      <th>Item_Outlet_Sales</th>\n",
              "    </tr>\n",
              "  </thead>\n",
              "  <tbody>\n",
              "    <tr>\n",
              "      <th>0</th>\n",
              "      <td>FDA15</td>\n",
              "      <td>9.30</td>\n",
              "      <td>Low Fat</td>\n",
              "      <td>0.016047</td>\n",
              "      <td>Dairy</td>\n",
              "      <td>249.8092</td>\n",
              "      <td>OUT049</td>\n",
              "      <td>1999</td>\n",
              "      <td>Medium</td>\n",
              "      <td>Tier 1</td>\n",
              "      <td>Supermarket Type1</td>\n",
              "      <td>3735.1380</td>\n",
              "    </tr>\n",
              "    <tr>\n",
              "      <th>1</th>\n",
              "      <td>DRC01</td>\n",
              "      <td>5.92</td>\n",
              "      <td>Regular</td>\n",
              "      <td>0.019278</td>\n",
              "      <td>Soft Drinks</td>\n",
              "      <td>48.2692</td>\n",
              "      <td>OUT018</td>\n",
              "      <td>2009</td>\n",
              "      <td>Medium</td>\n",
              "      <td>Tier 3</td>\n",
              "      <td>Supermarket Type2</td>\n",
              "      <td>443.4228</td>\n",
              "    </tr>\n",
              "    <tr>\n",
              "      <th>2</th>\n",
              "      <td>FDN15</td>\n",
              "      <td>17.50</td>\n",
              "      <td>Low Fat</td>\n",
              "      <td>0.016760</td>\n",
              "      <td>Meat</td>\n",
              "      <td>141.6180</td>\n",
              "      <td>OUT049</td>\n",
              "      <td>1999</td>\n",
              "      <td>Medium</td>\n",
              "      <td>Tier 1</td>\n",
              "      <td>Supermarket Type1</td>\n",
              "      <td>2097.2700</td>\n",
              "    </tr>\n",
              "    <tr>\n",
              "      <th>3</th>\n",
              "      <td>FDX07</td>\n",
              "      <td>19.20</td>\n",
              "      <td>Regular</td>\n",
              "      <td>0.000000</td>\n",
              "      <td>Fruits and Vegetables</td>\n",
              "      <td>182.0950</td>\n",
              "      <td>OUT010</td>\n",
              "      <td>1998</td>\n",
              "      <td>NaN</td>\n",
              "      <td>Tier 3</td>\n",
              "      <td>Grocery Store</td>\n",
              "      <td>732.3800</td>\n",
              "    </tr>\n",
              "    <tr>\n",
              "      <th>4</th>\n",
              "      <td>NCD19</td>\n",
              "      <td>8.93</td>\n",
              "      <td>Low Fat</td>\n",
              "      <td>0.000000</td>\n",
              "      <td>Household</td>\n",
              "      <td>53.8614</td>\n",
              "      <td>OUT013</td>\n",
              "      <td>1987</td>\n",
              "      <td>High</td>\n",
              "      <td>Tier 3</td>\n",
              "      <td>Supermarket Type1</td>\n",
              "      <td>994.7052</td>\n",
              "    </tr>\n",
              "  </tbody>\n",
              "</table>\n",
              "</div>\n",
              "      <button class=\"colab-df-convert\" onclick=\"convertToInteractive('df-bc5514f4-56e3-41be-b646-d9f220f41989')\"\n",
              "              title=\"Convert this dataframe to an interactive table.\"\n",
              "              style=\"display:none;\">\n",
              "        \n",
              "  <svg xmlns=\"http://www.w3.org/2000/svg\" height=\"24px\"viewBox=\"0 0 24 24\"\n",
              "       width=\"24px\">\n",
              "    <path d=\"M0 0h24v24H0V0z\" fill=\"none\"/>\n",
              "    <path d=\"M18.56 5.44l.94 2.06.94-2.06 2.06-.94-2.06-.94-.94-2.06-.94 2.06-2.06.94zm-11 1L8.5 8.5l.94-2.06 2.06-.94-2.06-.94L8.5 2.5l-.94 2.06-2.06.94zm10 10l.94 2.06.94-2.06 2.06-.94-2.06-.94-.94-2.06-.94 2.06-2.06.94z\"/><path d=\"M17.41 7.96l-1.37-1.37c-.4-.4-.92-.59-1.43-.59-.52 0-1.04.2-1.43.59L10.3 9.45l-7.72 7.72c-.78.78-.78 2.05 0 2.83L4 21.41c.39.39.9.59 1.41.59.51 0 1.02-.2 1.41-.59l7.78-7.78 2.81-2.81c.8-.78.8-2.07 0-2.86zM5.41 20L4 18.59l7.72-7.72 1.47 1.35L5.41 20z\"/>\n",
              "  </svg>\n",
              "      </button>\n",
              "      \n",
              "  <style>\n",
              "    .colab-df-container {\n",
              "      display:flex;\n",
              "      flex-wrap:wrap;\n",
              "      gap: 12px;\n",
              "    }\n",
              "\n",
              "    .colab-df-convert {\n",
              "      background-color: #E8F0FE;\n",
              "      border: none;\n",
              "      border-radius: 50%;\n",
              "      cursor: pointer;\n",
              "      display: none;\n",
              "      fill: #1967D2;\n",
              "      height: 32px;\n",
              "      padding: 0 0 0 0;\n",
              "      width: 32px;\n",
              "    }\n",
              "\n",
              "    .colab-df-convert:hover {\n",
              "      background-color: #E2EBFA;\n",
              "      box-shadow: 0px 1px 2px rgba(60, 64, 67, 0.3), 0px 1px 3px 1px rgba(60, 64, 67, 0.15);\n",
              "      fill: #174EA6;\n",
              "    }\n",
              "\n",
              "    [theme=dark] .colab-df-convert {\n",
              "      background-color: #3B4455;\n",
              "      fill: #D2E3FC;\n",
              "    }\n",
              "\n",
              "    [theme=dark] .colab-df-convert:hover {\n",
              "      background-color: #434B5C;\n",
              "      box-shadow: 0px 1px 3px 1px rgba(0, 0, 0, 0.15);\n",
              "      filter: drop-shadow(0px 1px 2px rgba(0, 0, 0, 0.3));\n",
              "      fill: #FFFFFF;\n",
              "    }\n",
              "  </style>\n",
              "\n",
              "      <script>\n",
              "        const buttonEl =\n",
              "          document.querySelector('#df-bc5514f4-56e3-41be-b646-d9f220f41989 button.colab-df-convert');\n",
              "        buttonEl.style.display =\n",
              "          google.colab.kernel.accessAllowed ? 'block' : 'none';\n",
              "\n",
              "        async function convertToInteractive(key) {\n",
              "          const element = document.querySelector('#df-bc5514f4-56e3-41be-b646-d9f220f41989');\n",
              "          const dataTable =\n",
              "            await google.colab.kernel.invokeFunction('convertToInteractive',\n",
              "                                                     [key], {});\n",
              "          if (!dataTable) return;\n",
              "\n",
              "          const docLinkHtml = 'Like what you see? Visit the ' +\n",
              "            '<a target=\"_blank\" href=https://colab.research.google.com/notebooks/data_table.ipynb>data table notebook</a>'\n",
              "            + ' to learn more about interactive tables.';\n",
              "          element.innerHTML = '';\n",
              "          dataTable['output_type'] = 'display_data';\n",
              "          await google.colab.output.renderOutput(dataTable, element);\n",
              "          const docLink = document.createElement('div');\n",
              "          docLink.innerHTML = docLinkHtml;\n",
              "          element.appendChild(docLink);\n",
              "        }\n",
              "      </script>\n",
              "    </div>\n",
              "  </div>\n",
              "  "
            ]
          },
          "metadata": {},
          "execution_count": 8
        }
      ]
    },
    {
      "cell_type": "code",
      "source": [
        "data.describe()"
      ],
      "metadata": {
        "colab": {
          "base_uri": "https://localhost:8080/",
          "height": 300
        },
        "id": "kVYviPvCAsR2",
        "outputId": "211370ad-1546-4c20-d360-9cd3ff789570"
      },
      "execution_count": 9,
      "outputs": [
        {
          "output_type": "execute_result",
          "data": {
            "text/plain": [
              "       Item_Weight  Item_Visibility     Item_MRP  Outlet_Establishment_Year  \\\n",
              "count  7060.000000      8523.000000  8523.000000                8523.000000   \n",
              "mean     12.857645         0.066132   140.992782                1997.831867   \n",
              "std       4.643456         0.051598    62.275067                   8.371760   \n",
              "min       4.555000         0.000000    31.290000                1985.000000   \n",
              "25%       8.773750         0.026989    93.826500                1987.000000   \n",
              "50%      12.600000         0.053931   143.012800                1999.000000   \n",
              "75%      16.850000         0.094585   185.643700                2004.000000   \n",
              "max      21.350000         0.328391   266.888400                2009.000000   \n",
              "\n",
              "       Item_Outlet_Sales  \n",
              "count        8523.000000  \n",
              "mean         2181.288914  \n",
              "std          1706.499616  \n",
              "min            33.290000  \n",
              "25%           834.247400  \n",
              "50%          1794.331000  \n",
              "75%          3101.296400  \n",
              "max         13086.964800  "
            ],
            "text/html": [
              "\n",
              "  <div id=\"df-6de13f31-3bb0-4108-af96-1ffb9ece2877\">\n",
              "    <div class=\"colab-df-container\">\n",
              "      <div>\n",
              "<style scoped>\n",
              "    .dataframe tbody tr th:only-of-type {\n",
              "        vertical-align: middle;\n",
              "    }\n",
              "\n",
              "    .dataframe tbody tr th {\n",
              "        vertical-align: top;\n",
              "    }\n",
              "\n",
              "    .dataframe thead th {\n",
              "        text-align: right;\n",
              "    }\n",
              "</style>\n",
              "<table border=\"1\" class=\"dataframe\">\n",
              "  <thead>\n",
              "    <tr style=\"text-align: right;\">\n",
              "      <th></th>\n",
              "      <th>Item_Weight</th>\n",
              "      <th>Item_Visibility</th>\n",
              "      <th>Item_MRP</th>\n",
              "      <th>Outlet_Establishment_Year</th>\n",
              "      <th>Item_Outlet_Sales</th>\n",
              "    </tr>\n",
              "  </thead>\n",
              "  <tbody>\n",
              "    <tr>\n",
              "      <th>count</th>\n",
              "      <td>7060.000000</td>\n",
              "      <td>8523.000000</td>\n",
              "      <td>8523.000000</td>\n",
              "      <td>8523.000000</td>\n",
              "      <td>8523.000000</td>\n",
              "    </tr>\n",
              "    <tr>\n",
              "      <th>mean</th>\n",
              "      <td>12.857645</td>\n",
              "      <td>0.066132</td>\n",
              "      <td>140.992782</td>\n",
              "      <td>1997.831867</td>\n",
              "      <td>2181.288914</td>\n",
              "    </tr>\n",
              "    <tr>\n",
              "      <th>std</th>\n",
              "      <td>4.643456</td>\n",
              "      <td>0.051598</td>\n",
              "      <td>62.275067</td>\n",
              "      <td>8.371760</td>\n",
              "      <td>1706.499616</td>\n",
              "    </tr>\n",
              "    <tr>\n",
              "      <th>min</th>\n",
              "      <td>4.555000</td>\n",
              "      <td>0.000000</td>\n",
              "      <td>31.290000</td>\n",
              "      <td>1985.000000</td>\n",
              "      <td>33.290000</td>\n",
              "    </tr>\n",
              "    <tr>\n",
              "      <th>25%</th>\n",
              "      <td>8.773750</td>\n",
              "      <td>0.026989</td>\n",
              "      <td>93.826500</td>\n",
              "      <td>1987.000000</td>\n",
              "      <td>834.247400</td>\n",
              "    </tr>\n",
              "    <tr>\n",
              "      <th>50%</th>\n",
              "      <td>12.600000</td>\n",
              "      <td>0.053931</td>\n",
              "      <td>143.012800</td>\n",
              "      <td>1999.000000</td>\n",
              "      <td>1794.331000</td>\n",
              "    </tr>\n",
              "    <tr>\n",
              "      <th>75%</th>\n",
              "      <td>16.850000</td>\n",
              "      <td>0.094585</td>\n",
              "      <td>185.643700</td>\n",
              "      <td>2004.000000</td>\n",
              "      <td>3101.296400</td>\n",
              "    </tr>\n",
              "    <tr>\n",
              "      <th>max</th>\n",
              "      <td>21.350000</td>\n",
              "      <td>0.328391</td>\n",
              "      <td>266.888400</td>\n",
              "      <td>2009.000000</td>\n",
              "      <td>13086.964800</td>\n",
              "    </tr>\n",
              "  </tbody>\n",
              "</table>\n",
              "</div>\n",
              "      <button class=\"colab-df-convert\" onclick=\"convertToInteractive('df-6de13f31-3bb0-4108-af96-1ffb9ece2877')\"\n",
              "              title=\"Convert this dataframe to an interactive table.\"\n",
              "              style=\"display:none;\">\n",
              "        \n",
              "  <svg xmlns=\"http://www.w3.org/2000/svg\" height=\"24px\"viewBox=\"0 0 24 24\"\n",
              "       width=\"24px\">\n",
              "    <path d=\"M0 0h24v24H0V0z\" fill=\"none\"/>\n",
              "    <path d=\"M18.56 5.44l.94 2.06.94-2.06 2.06-.94-2.06-.94-.94-2.06-.94 2.06-2.06.94zm-11 1L8.5 8.5l.94-2.06 2.06-.94-2.06-.94L8.5 2.5l-.94 2.06-2.06.94zm10 10l.94 2.06.94-2.06 2.06-.94-2.06-.94-.94-2.06-.94 2.06-2.06.94z\"/><path d=\"M17.41 7.96l-1.37-1.37c-.4-.4-.92-.59-1.43-.59-.52 0-1.04.2-1.43.59L10.3 9.45l-7.72 7.72c-.78.78-.78 2.05 0 2.83L4 21.41c.39.39.9.59 1.41.59.51 0 1.02-.2 1.41-.59l7.78-7.78 2.81-2.81c.8-.78.8-2.07 0-2.86zM5.41 20L4 18.59l7.72-7.72 1.47 1.35L5.41 20z\"/>\n",
              "  </svg>\n",
              "      </button>\n",
              "      \n",
              "  <style>\n",
              "    .colab-df-container {\n",
              "      display:flex;\n",
              "      flex-wrap:wrap;\n",
              "      gap: 12px;\n",
              "    }\n",
              "\n",
              "    .colab-df-convert {\n",
              "      background-color: #E8F0FE;\n",
              "      border: none;\n",
              "      border-radius: 50%;\n",
              "      cursor: pointer;\n",
              "      display: none;\n",
              "      fill: #1967D2;\n",
              "      height: 32px;\n",
              "      padding: 0 0 0 0;\n",
              "      width: 32px;\n",
              "    }\n",
              "\n",
              "    .colab-df-convert:hover {\n",
              "      background-color: #E2EBFA;\n",
              "      box-shadow: 0px 1px 2px rgba(60, 64, 67, 0.3), 0px 1px 3px 1px rgba(60, 64, 67, 0.15);\n",
              "      fill: #174EA6;\n",
              "    }\n",
              "\n",
              "    [theme=dark] .colab-df-convert {\n",
              "      background-color: #3B4455;\n",
              "      fill: #D2E3FC;\n",
              "    }\n",
              "\n",
              "    [theme=dark] .colab-df-convert:hover {\n",
              "      background-color: #434B5C;\n",
              "      box-shadow: 0px 1px 3px 1px rgba(0, 0, 0, 0.15);\n",
              "      filter: drop-shadow(0px 1px 2px rgba(0, 0, 0, 0.3));\n",
              "      fill: #FFFFFF;\n",
              "    }\n",
              "  </style>\n",
              "\n",
              "      <script>\n",
              "        const buttonEl =\n",
              "          document.querySelector('#df-6de13f31-3bb0-4108-af96-1ffb9ece2877 button.colab-df-convert');\n",
              "        buttonEl.style.display =\n",
              "          google.colab.kernel.accessAllowed ? 'block' : 'none';\n",
              "\n",
              "        async function convertToInteractive(key) {\n",
              "          const element = document.querySelector('#df-6de13f31-3bb0-4108-af96-1ffb9ece2877');\n",
              "          const dataTable =\n",
              "            await google.colab.kernel.invokeFunction('convertToInteractive',\n",
              "                                                     [key], {});\n",
              "          if (!dataTable) return;\n",
              "\n",
              "          const docLinkHtml = 'Like what you see? Visit the ' +\n",
              "            '<a target=\"_blank\" href=https://colab.research.google.com/notebooks/data_table.ipynb>data table notebook</a>'\n",
              "            + ' to learn more about interactive tables.';\n",
              "          element.innerHTML = '';\n",
              "          dataTable['output_type'] = 'display_data';\n",
              "          await google.colab.output.renderOutput(dataTable, element);\n",
              "          const docLink = document.createElement('div');\n",
              "          docLink.innerHTML = docLinkHtml;\n",
              "          element.appendChild(docLink);\n",
              "        }\n",
              "      </script>\n",
              "    </div>\n",
              "  </div>\n",
              "  "
            ]
          },
          "metadata": {},
          "execution_count": 9
        }
      ]
    },
    {
      "cell_type": "markdown",
      "source": [
        "# Exploratory Data Analysis(EDA)"
      ],
      "metadata": {
        "id": "KecyIeznDItP"
      }
    },
    {
      "cell_type": "code",
      "source": [
        "data.isnull().sum()"
      ],
      "metadata": {
        "colab": {
          "base_uri": "https://localhost:8080/"
        },
        "id": "pvvhm80mAsZY",
        "outputId": "a618fd98-c94b-4223-ee37-0bdc04c8c1dd"
      },
      "execution_count": 10,
      "outputs": [
        {
          "output_type": "execute_result",
          "data": {
            "text/plain": [
              "Item_Identifier                 0\n",
              "Item_Weight                  1463\n",
              "Item_Fat_Content                0\n",
              "Item_Visibility                 0\n",
              "Item_Type                       0\n",
              "Item_MRP                        0\n",
              "Outlet_Identifier               0\n",
              "Outlet_Establishment_Year       0\n",
              "Outlet_Size                  2410\n",
              "Outlet_Location_Type            0\n",
              "Outlet_Type                     0\n",
              "Item_Outlet_Sales               0\n",
              "dtype: int64"
            ]
          },
          "metadata": {},
          "execution_count": 10
        }
      ]
    },
    {
      "cell_type": "code",
      "source": [
        "data['Item_Weight'].mean()"
      ],
      "metadata": {
        "colab": {
          "base_uri": "https://localhost:8080/"
        },
        "id": "uHHVKn0cAscH",
        "outputId": "99988db3-9c23-49b6-e6a9-66d030b91193"
      },
      "execution_count": 11,
      "outputs": [
        {
          "output_type": "execute_result",
          "data": {
            "text/plain": [
              "12.857645184135976"
            ]
          },
          "metadata": {},
          "execution_count": 11
        }
      ]
    },
    {
      "cell_type": "code",
      "source": [
        "data['Item_Weight'] = data['Item_Weight'].fillna(12.857)"
      ],
      "metadata": {
        "id": "oSJWFSSRAsec"
      },
      "execution_count": 12,
      "outputs": []
    },
    {
      "cell_type": "code",
      "source": [
        "data['Outlet_Size'].mode()"
      ],
      "metadata": {
        "colab": {
          "base_uri": "https://localhost:8080/"
        },
        "id": "xu4TC_aLAskb",
        "outputId": "ac710644-98b6-4f87-f2fc-45d955c54ee1"
      },
      "execution_count": 13,
      "outputs": [
        {
          "output_type": "execute_result",
          "data": {
            "text/plain": [
              "0    Medium\n",
              "Name: Outlet_Size, dtype: object"
            ]
          },
          "metadata": {},
          "execution_count": 13
        }
      ]
    },
    {
      "cell_type": "code",
      "source": [
        "data['Outlet_Size'] = data['Outlet_Size'].fillna('Medium')"
      ],
      "metadata": {
        "id": "EW_RQfuRD0w1"
      },
      "execution_count": 14,
      "outputs": []
    },
    {
      "cell_type": "code",
      "source": [
        "data.isnull().sum()"
      ],
      "metadata": {
        "colab": {
          "base_uri": "https://localhost:8080/"
        },
        "id": "eHOIG6vrD0zF",
        "outputId": "9b9a983e-e8e2-41fd-c46b-f5fb68b12f68"
      },
      "execution_count": 15,
      "outputs": [
        {
          "output_type": "execute_result",
          "data": {
            "text/plain": [
              "Item_Identifier              0\n",
              "Item_Weight                  0\n",
              "Item_Fat_Content             0\n",
              "Item_Visibility              0\n",
              "Item_Type                    0\n",
              "Item_MRP                     0\n",
              "Outlet_Identifier            0\n",
              "Outlet_Establishment_Year    0\n",
              "Outlet_Size                  0\n",
              "Outlet_Location_Type         0\n",
              "Outlet_Type                  0\n",
              "Item_Outlet_Sales            0\n",
              "dtype: int64"
            ]
          },
          "metadata": {},
          "execution_count": 15
        }
      ]
    },
    {
      "cell_type": "code",
      "source": [
        "sum(data.duplicated()) == 0"
      ],
      "metadata": {
        "colab": {
          "base_uri": "https://localhost:8080/"
        },
        "id": "JkKDwQCPD03_",
        "outputId": "9065958e-442b-4c34-9fe1-c11cf7b6c537"
      },
      "execution_count": 16,
      "outputs": [
        {
          "output_type": "execute_result",
          "data": {
            "text/plain": [
              "True"
            ]
          },
          "metadata": {},
          "execution_count": 16
        }
      ]
    },
    {
      "cell_type": "code",
      "source": [
        "def handle_outlier(col):\n",
        "    sorted(col)\n",
        "    Q1, Q3 = col.quantile([0.25, 0.75])\n",
        "    IQR = Q3 - Q1\n",
        "    lower = Q1 - (1.5 * IQR)\n",
        "    upper = Q3 + (1.5 * IQR)\n",
        "    col[col < lower] = lower\n",
        "    col[col > upper] = upper\n",
        "    return col"
      ],
      "metadata": {
        "id": "wBaZEQOvNF_p"
      },
      "execution_count": 17,
      "outputs": []
    },
    {
      "cell_type": "code",
      "source": [
        "sns.boxplot(data=data,palette='rainbow',orient='h')"
      ],
      "metadata": {
        "colab": {
          "base_uri": "https://localhost:8080/",
          "height": 447
        },
        "id": "uAptjdnxD07e",
        "outputId": "caca874f-3121-4f72-abb4-2057c18f41f6"
      },
      "execution_count": 18,
      "outputs": [
        {
          "output_type": "execute_result",
          "data": {
            "text/plain": [
              "<Axes: >"
            ]
          },
          "metadata": {},
          "execution_count": 18
        },
        {
          "output_type": "display_data",
          "data": {
            "text/plain": [
              "<Figure size 640x480 with 1 Axes>"
            ],
            "image/png": "[encoded data removed]"
          },
          "metadata": {}
        }
      ]
    },
    {
      "cell_type": "code",
      "source": [
        "handle_outlier(data['Item_Outlet_Sales'])"
      ],
      "metadata": {
        "colab": {
          "base_uri": "https://localhost:8080/"
        },
        "id": "Pg6bzFkrNGCP",
        "outputId": "427334ea-7bbc-4f23-dd14-746d3ec22446"
      },
      "execution_count": 19,
      "outputs": [
        {
          "output_type": "stream",
          "name": "stderr",
          "text": [
            "<ipython-input-17-42b41d2257cc>:7: SettingWithCopyWarning: \n",
            "A value is trying to be set on a copy of a slice from a DataFrame\n",
            "\n",
            "See the caveats in the documentation: https://pandas.pydata.org/pandas-docs/stable/user_guide/indexing.html#returning-a-view-versus-a-copy\n",
            "  col[col < lower] = lower\n",
            "<ipython-input-17-42b41d2257cc>:8: SettingWithCopyWarning: \n",
            "A value is trying to be set on a copy of a slice from a DataFrame\n",
            "\n",
            "See the caveats in the documentation: https://pandas.pydata.org/pandas-docs/stable/user_guide/indexing.html#returning-a-view-versus-a-copy\n",
            "  col[col > upper] = upper\n"
          ]
        },
        {
          "output_type": "execute_result",
          "data": {
            "text/plain": [
              "0       3735.1380\n",
              "1        443.4228\n",
              "2       2097.2700\n",
              "3        732.3800\n",
              "4        994.7052\n",
              "          ...    \n",
              "8518    2778.3834\n",
              "8519     549.2850\n",
              "8520    1193.1136\n",
              "8521    1845.5976\n",
              "8522     765.6700\n",
              "Name: Item_Outlet_Sales, Length: 8523, dtype: float64"
            ]
          },
          "metadata": {},
          "execution_count": 19
        }
      ]
    },
    {
      "cell_type": "code",
      "source": [
        "sns.boxplot(data=data,palette='rainbow',orient='h')"
      ],
      "metadata": {
        "colab": {
          "base_uri": "https://localhost:8080/",
          "height": 447
        },
        "id": "eJIq_dzeNGE3",
        "outputId": "3ac6577f-a15e-4840-adcd-1cbe04bfc94f"
      },
      "execution_count": 20,
      "outputs": [
        {
          "output_type": "execute_result",
          "data": {
            "text/plain": [
              "<Axes: >"
            ]
          },
          "metadata": {},
          "execution_count": 20
        },
        {
          "output_type": "display_data",
          "data": {
            "text/plain": [
              "<Figure size 640x480 with 1 Axes>"
            ],
            "image/png": "[encoded data removed]"
          },
          "metadata": {}
        }
      ]
    },
    {
      "cell_type": "code",
      "source": [
        "plt.figure(figsize=(25,5))\n",
        "plt.title(\"Item Type Histogram\")\n",
        "plt.xlabel(\"Item Types\")\n",
        "plt.ylabel(\"Number of Item Types\")\n",
        "plt.hist(data['Item_Type'], bins=32)"
      ],
      "metadata": {
        "colab": {
          "base_uri": "https://localhost:8080/",
          "height": 556
        },
        "id": "15CZlIqrVXwg",
        "outputId": "e8442e33-1354-41e2-b31c-adf82c3c5ef8"
      },
      "execution_count": 21,
      "outputs": [
        {
          "output_type": "execute_result",
          "data": {
            "text/plain": [
              "(array([ 682.,    0.,  445.,    0.,  425.,    0., 1232.,    0.,  910.,\n",
              "           0.,  648.,    0., 1200.,    0.,  856.,    0.,    0.,  110.,\n",
              "           0.,  520.,    0.,  214.,    0.,  649.,    0.,  251.,    0.,\n",
              "         148.,    0.,  169.,    0.,   64.]),\n",
              " array([ 0.     ,  0.46875,  0.9375 ,  1.40625,  1.875  ,  2.34375,\n",
              "         2.8125 ,  3.28125,  3.75   ,  4.21875,  4.6875 ,  5.15625,\n",
              "         5.625  ,  6.09375,  6.5625 ,  7.03125,  7.5    ,  7.96875,\n",
              "         8.4375 ,  8.90625,  9.375  ,  9.84375, 10.3125 , 10.78125,\n",
              "        11.25   , 11.71875, 12.1875 , 12.65625, 13.125  , 13.59375,\n",
              "        14.0625 , 14.53125, 15.     ]),\n",
              " <BarContainer object of 32 artists>)"
            ]
          },
          "metadata": {},
          "execution_count": 21
        },
        {
          "output_type": "display_data",
          "data": {
            "text/plain": [
              "<Figure size 2500x500 with 1 Axes>"
            ],
            "image/png": "[encoded data removed]"
          },
          "metadata": {}
        }
      ]
    },
    {
      "cell_type": "code",
      "source": [
        "\n",
        "plt.figure(figsize=(15,5))\n",
        "plt.title(\"Item Fat Content Histogram\")\n",
        "plt.xlabel(\"Item Fat Content\")\n",
        "plt.ylabel(\"Number of Item Fat Content\")\n",
        "plt.hist(data['Item_Fat_Content'], bins=10)\n"
      ],
      "metadata": {
        "colab": {
          "base_uri": "https://localhost:8080/",
          "height": 556
        },
        "id": "e2pjifbAVX2w",
        "outputId": "d4df65dd-32f7-4a0a-fa39-53004cf6d3f3"
      },
      "execution_count": 22,
      "outputs": [
        {
          "output_type": "execute_result",
          "data": {
            "text/plain": [
              "(array([5089.,    0., 2889.,    0.,    0.,  112.,    0.,  316.,    0.,\n",
              "         117.]),\n",
              " array([0. , 0.4, 0.8, 1.2, 1.6, 2. , 2.4, 2.8, 3.2, 3.6, 4. ]),\n",
              " <BarContainer object of 10 artists>)"
            ]
          },
          "metadata": {},
          "execution_count": 22
        },
        {
          "output_type": "display_data",
          "data": {
            "text/plain": [
              "<Figure size 1500x500 with 1 Axes>"
            ],
            "image/png": "[encoded data removed]"
          },
          "metadata": {}
        }
      ]
    },
    {
      "cell_type": "code",
      "source": [
        "fig, ax = plt.subplots(figsize=(10, 6))\n",
        "ax.bar(data['Outlet_Type'], data['Item_Outlet_Sales'])\n",
        "ax.set_xlabel('Outlet Type')\n",
        "ax.set_ylabel('Item Outlet Sales')\n",
        "ax.set_title('Item Outlet Sales by Outlet Type')\n",
        "plt.show()"
      ],
      "metadata": {
        "colab": {
          "base_uri": "https://localhost:8080/",
          "height": 564
        },
        "id": "rpl_BsTbNGHQ",
        "outputId": "92504c06-7c3c-456f-f35d-d907eb19bcb7"
      },
      "execution_count": 23,
      "outputs": [
        {
          "output_type": "display_data",
          "data": {
            "text/plain": [
              "<Figure size 1000x600 with 1 Axes>"
            ],
            "image/png": "[encoded data removed]"
          },
          "metadata": {}
        }
      ]
    },
    {
      "cell_type": "code",
      "source": [
        "data['Item_Identifier'].unique()"
      ],
      "metadata": {
        "colab": {
          "base_uri": "https://localhost:8080/"
        },
        "id": "u48PkB6UNGJw",
        "outputId": "249117d8-c7d9-4770-dd21-f279f6c188fe"
      },
      "execution_count": 24,
      "outputs": [
        {
          "output_type": "execute_result",
          "data": {
            "text/plain": [
              "array(['FDA15', 'DRC01', 'FDN15', ..., 'NCF55', 'NCW30', 'NCW05'],\n",
              "      dtype=object)"
            ]
          },
          "metadata": {},
          "execution_count": 24
        }
      ]
    },
    {
      "cell_type": "code",
      "source": [
        "label_encoder = preprocessing.LabelEncoder()\n",
        "data['Item_Identifier']= label_encoder.fit_transform(data['Item_Identifier'])\n",
        "data['Item_Identifier'].unique()"
      ],
      "metadata": {
        "colab": {
          "base_uri": "https://localhost:8080/"
        },
        "id": "eZy3me1mTZ4p",
        "outputId": "26daa1a1-9850-476a-9894-9afece84625b"
      },
      "execution_count": 25,
      "outputs": [
        {
          "output_type": "execute_result",
          "data": {
            "text/plain": [
              "array([ 156,    8,  662, ..., 1323, 1524, 1519])"
            ]
          },
          "metadata": {},
          "execution_count": 25
        }
      ]
    },
    {
      "cell_type": "code",
      "source": [
        "data['Item_Fat_Content'].unique()"
      ],
      "metadata": {
        "colab": {
          "base_uri": "https://localhost:8080/"
        },
        "id": "MIY9St9-TZ7X",
        "outputId": "dd3a2508-e49c-4fcf-90b8-e1420f358245"
      },
      "execution_count": 26,
      "outputs": [
        {
          "output_type": "execute_result",
          "data": {
            "text/plain": [
              "array(['Low Fat', 'Regular', 'low fat', 'LF', 'reg'], dtype=object)"
            ]
          },
          "metadata": {},
          "execution_count": 26
        }
      ]
    },
    {
      "cell_type": "code",
      "source": [
        "label_encoder = preprocessing.LabelEncoder()\n",
        "data['Item_Fat_Content']= label_encoder.fit_transform(data['Item_Fat_Content'])\n",
        "data['Item_Fat_Content'].unique()"
      ],
      "metadata": {
        "colab": {
          "base_uri": "https://localhost:8080/"
        },
        "id": "nf64fPSMTZ-1",
        "outputId": "3deef870-eaca-41e8-ceee-89e13ffa6c45"
      },
      "execution_count": 27,
      "outputs": [
        {
          "output_type": "execute_result",
          "data": {
            "text/plain": [
              "array([1, 2, 3, 0, 4])"
            ]
          },
          "metadata": {},
          "execution_count": 27
        }
      ]
    },
    {
      "cell_type": "code",
      "source": [
        "data['Item_Type'].unique()"
      ],
      "metadata": {
        "colab": {
          "base_uri": "https://localhost:8080/"
        },
        "id": "XTNvmu37ZBeD",
        "outputId": "46af256a-aec8-4513-bd19-9ce0164ae477"
      },
      "execution_count": 28,
      "outputs": [
        {
          "output_type": "execute_result",
          "data": {
            "text/plain": [
              "array(['Dairy', 'Soft Drinks', 'Meat', 'Fruits and Vegetables',\n",
              "       'Household', 'Baking Goods', 'Snack Foods', 'Frozen Foods',\n",
              "       'Breakfast', 'Health and Hygiene', 'Hard Drinks', 'Canned',\n",
              "       'Breads', 'Starchy Foods', 'Others', 'Seafood'], dtype=object)"
            ]
          },
          "metadata": {},
          "execution_count": 28
        }
      ]
    },
    {
      "cell_type": "code",
      "source": [
        "label_encoder = preprocessing.LabelEncoder()\n",
        "data['Item_Type']= label_encoder.fit_transform(data['Item_Type'])\n",
        "data['Item_Type'].unique()"
      ],
      "metadata": {
        "colab": {
          "base_uri": "https://localhost:8080/"
        },
        "id": "nOzHVfKnZBgf",
        "outputId": "75b21886-129b-42fb-f5d6-1560bb2114d4"
      },
      "execution_count": 29,
      "outputs": [
        {
          "output_type": "execute_result",
          "data": {
            "text/plain": [
              "array([ 4, 14, 10,  6,  9,  0, 13,  5,  2,  8,  7,  3,  1, 15, 11, 12])"
            ]
          },
          "metadata": {},
          "execution_count": 29
        }
      ]
    },
    {
      "cell_type": "code",
      "source": [
        "data['Outlet_Identifier'].unique()"
      ],
      "metadata": {
        "colab": {
          "base_uri": "https://localhost:8080/"
        },
        "id": "6kk8wbinZBix",
        "outputId": "147aed25-4970-449a-f7d4-a140801a275f"
      },
      "execution_count": 30,
      "outputs": [
        {
          "output_type": "execute_result",
          "data": {
            "text/plain": [
              "array(['OUT049', 'OUT018', 'OUT010', 'OUT013', 'OUT027', 'OUT045',\n",
              "       'OUT017', 'OUT046', 'OUT035', 'OUT019'], dtype=object)"
            ]
          },
          "metadata": {},
          "execution_count": 30
        }
      ]
    },
    {
      "cell_type": "code",
      "source": [
        "data['Outlet_Identifier']= label_encoder.fit_transform(data['Outlet_Identifier'])\n",
        "data['Outlet_Identifier'].unique()"
      ],
      "metadata": {
        "colab": {
          "base_uri": "https://localhost:8080/"
        },
        "id": "q9kbVo-3ZBk3",
        "outputId": "ae8a66da-0c0e-46b9-bb3f-21ff5efe590e"
      },
      "execution_count": 31,
      "outputs": [
        {
          "output_type": "execute_result",
          "data": {
            "text/plain": [
              "array([9, 3, 0, 1, 5, 7, 2, 8, 6, 4])"
            ]
          },
          "metadata": {},
          "execution_count": 31
        }
      ]
    },
    {
      "cell_type": "code",
      "source": [
        "data['Outlet_Size'].unique()"
      ],
      "metadata": {
        "colab": {
          "base_uri": "https://localhost:8080/"
        },
        "id": "cHN7QsdRZBm8",
        "outputId": "7fac9c78-6381-4251-d8d5-ebca4eebf42f"
      },
      "execution_count": 32,
      "outputs": [
        {
          "output_type": "execute_result",
          "data": {
            "text/plain": [
              "array(['Medium', 'High', 'Small'], dtype=object)"
            ]
          },
          "metadata": {},
          "execution_count": 32
        }
      ]
    },
    {
      "cell_type": "code",
      "source": [
        "data['Outlet_Size']= label_encoder.fit_transform(data['Outlet_Size'])\n",
        "data['Outlet_Size'].unique()"
      ],
      "metadata": {
        "colab": {
          "base_uri": "https://localhost:8080/"
        },
        "id": "LCWB3wfIZm6N",
        "outputId": "899d5b84-0d07-41ad-c29a-9c134dedd7ba"
      },
      "execution_count": 33,
      "outputs": [
        {
          "output_type": "execute_result",
          "data": {
            "text/plain": [
              "array([1, 0, 2])"
            ]
          },
          "metadata": {},
          "execution_count": 33
        }
      ]
    },
    {
      "cell_type": "code",
      "source": [
        "data['Outlet_Location_Type'].unique()"
      ],
      "metadata": {
        "colab": {
          "base_uri": "https://localhost:8080/"
        },
        "id": "NZSnTIxpZm-q",
        "outputId": "35985b2e-45bd-4833-b892-930ae0343d2a"
      },
      "execution_count": 34,
      "outputs": [
        {
          "output_type": "execute_result",
          "data": {
            "text/plain": [
              "array(['Tier 1', 'Tier 3', 'Tier 2'], dtype=object)"
            ]
          },
          "metadata": {},
          "execution_count": 34
        }
      ]
    },
    {
      "cell_type": "code",
      "source": [
        "data['Outlet_Location_Type']= label_encoder.fit_transform(data['Outlet_Location_Type'])\n",
        "data['Outlet_Location_Type'].unique()"
      ],
      "metadata": {
        "colab": {
          "base_uri": "https://localhost:8080/"
        },
        "id": "mNAS2p7tZnCH",
        "outputId": "47fa1748-befd-4bc6-c60a-3c0d06fd5797"
      },
      "execution_count": 35,
      "outputs": [
        {
          "output_type": "execute_result",
          "data": {
            "text/plain": [
              "array([0, 2, 1])"
            ]
          },
          "metadata": {},
          "execution_count": 35
        }
      ]
    },
    {
      "cell_type": "code",
      "source": [
        "data['Outlet_Type'].unique()\n",
        "  "
      ],
      "metadata": {
        "colab": {
          "base_uri": "https://localhost:8080/"
        },
        "id": "6y39jOPEZBqU",
        "outputId": "bf552b82-a74b-4471-9de2-04d0be4a7073"
      },
      "execution_count": 36,
      "outputs": [
        {
          "output_type": "execute_result",
          "data": {
            "text/plain": [
              "array(['Supermarket Type1', 'Supermarket Type2', 'Grocery Store',\n",
              "       'Supermarket Type3'], dtype=object)"
            ]
          },
          "metadata": {},
          "execution_count": 36
        }
      ]
    },
    {
      "cell_type": "code",
      "source": [
        "data['Outlet_Type']= label_encoder.fit_transform(data['Outlet_Type'])\n",
        "data['Outlet_Type'].unique()"
      ],
      "metadata": {
        "colab": {
          "base_uri": "https://localhost:8080/"
        },
        "id": "pADTkj6mZhIU",
        "outputId": "29b690e1-f3e3-429b-ab85-14adf2ec0885"
      },
      "execution_count": 37,
      "outputs": [
        {
          "output_type": "execute_result",
          "data": {
            "text/plain": [
              "array([1, 2, 0, 3])"
            ]
          },
          "metadata": {},
          "execution_count": 37
        }
      ]
    },
    {
      "cell_type": "code",
      "source": [
        "data.info()"
      ],
      "metadata": {
        "colab": {
          "base_uri": "https://localhost:8080/"
        },
        "id": "bkjTmfeAZ7Bt",
        "outputId": "381fbc88-e80c-4cad-d5c1-97daa8e611fb"
      },
      "execution_count": 38,
      "outputs": [
        {
          "output_type": "stream",
          "name": "stdout",
          "text": [
            "<class 'pandas.core.frame.DataFrame'>\n",
            "RangeIndex: 8523 entries, 0 to 8522\n",
            "Data columns (total 12 columns):\n",
            " #   Column                     Non-Null Count  Dtype  \n",
            "---  ------                     --------------  -----  \n",
            " 0   Item_Identifier            8523 non-null   int64  \n",
            " 1   Item_Weight                8523 non-null   float64\n",
            " 2   Item_Fat_Content           8523 non-null   int64  \n",
            " 3   Item_Visibility            8523 non-null   float64\n",
            " 4   Item_Type                  8523 non-null   int64  \n",
            " 5   Item_MRP                   8523 non-null   float64\n",
            " 6   Outlet_Identifier          8523 non-null   int64  \n",
            " 7   Outlet_Establishment_Year  8523 non-null   int64  \n",
            " 8   Outlet_Size                8523 non-null   int64  \n",
            " 9   Outlet_Location_Type       8523 non-null   int64  \n",
            " 10  Outlet_Type                8523 non-null   int64  \n",
            " 11  Item_Outlet_Sales          8523 non-null   float64\n",
            "dtypes: float64(4), int64(8)\n",
            "memory usage: 799.2 KB\n"
          ]
        }
      ]
    },
    {
      "cell_type": "code",
      "source": [
        "# Define the fixed number to subtract\n",
        "fixed_number = 2013\n",
        "\n",
        "# Subtract the fixed number from the Outlet_Establishment_Year column\n",
        "data['Outlet_Establishment_Year'] =   fixed_number - data['Outlet_Establishment_Year']\n",
        "data['Outlet_Establishment_Year'] .head(10)"
      ],
      "metadata": {
        "colab": {
          "base_uri": "https://localhost:8080/"
        },
        "id": "wcVvvrIdmAPR",
        "outputId": "18c2d25f-675d-4fdd-856a-dcbd97aa966b"
      },
      "execution_count": 39,
      "outputs": [
        {
          "output_type": "execute_result",
          "data": {
            "text/plain": [
              "0    14\n",
              "1     4\n",
              "2    14\n",
              "3    15\n",
              "4    26\n",
              "5     4\n",
              "6    26\n",
              "7    28\n",
              "8    11\n",
              "9     6\n",
              "Name: Outlet_Establishment_Year, dtype: int64"
            ]
          },
          "metadata": {},
          "execution_count": 39
        }
      ]
    },
    {
      "cell_type": "code",
      "source": [
        "correlation = data.corr()\n",
        "correlation. style. background_gradient (cmap = 'YlGnBu')"
      ],
      "metadata": {
        "colab": {
          "base_uri": "https://localhost:8080/",
          "height": 446
        },
        "id": "wxNo55y9Z7Ls",
        "outputId": "796848b8-5560-4389-aafa-88244ebc458b"
      },
      "execution_count": 40,
      "outputs": [
        {
          "output_type": "execute_result",
          "data": {
            "text/plain": [
              "<pandas.io.formats.style.Styler at 0x7f624f637a60>"
            ],
            "text/html": [
              "<style type=\"text/css\">\n",
              "#T_63467_row0_col0, #T_63467_row1_col1, #T_63467_row2_col2, #T_63467_row3_col3, #T_63467_row4_col4, #T_63467_row5_col5, #T_63467_row6_col6, #T_63467_row7_col7, #T_63467_row8_col8, #T_63467_row9_col9, #T_63467_row10_col10, #T_63467_row11_col11 {\n",
              "  background-color: #081d58;\n",
              "  color: #f1f1f1;\n",
              "}\n",
              "#T_63467_row0_col1, #T_63467_row6_col3, #T_63467_row8_col9 {\n",
              "  background-color: #f7fcc6;\n",
              "  color: #000000;\n",
              "}\n",
              "#T_63467_row0_col2, #T_63467_row0_col5, #T_63467_row10_col1 {\n",
              "  background-color: #fdfed4;\n",
              "  color: #000000;\n",
              "}\n",
              "#T_63467_row0_col3, #T_63467_row1_col11 {\n",
              "  background-color: #edf8b1;\n",
              "  color: #000000;\n",
              "}\n",
              "#T_63467_row0_col4, #T_63467_row1_col2, #T_63467_row10_col0 {\n",
              "  background-color: #f3fabd;\n",
              "  color: #000000;\n",
              "}\n",
              "#T_63467_row0_col6, #T_63467_row1_col6 {\n",
              "  background-color: #6dc6be;\n",
              "  color: #000000;\n",
              "}\n",
              "#T_63467_row0_col7 {\n",
              "  background-color: #dff2b2;\n",
              "  color: #000000;\n",
              "}\n",
              "#T_63467_row0_col8, #T_63467_row4_col8 {\n",
              "  background-color: #7cccbb;\n",
              "  color: #000000;\n",
              "}\n",
              "#T_63467_row0_col9, #T_63467_row1_col9, #T_63467_row4_col6, #T_63467_row4_col9, #T_63467_row5_col6 {\n",
              "  background-color: #69c5be;\n",
              "  color: #000000;\n",
              "}\n",
              "#T_63467_row0_col10, #T_63467_row1_col10, #T_63467_row2_col10, #T_63467_row5_col10 {\n",
              "  background-color: #e1f3b2;\n",
              "  color: #000000;\n",
              "}\n",
              "#T_63467_row0_col11, #T_63467_row4_col3, #T_63467_row11_col4 {\n",
              "  background-color: #eef8b3;\n",
              "  color: #000000;\n",
              "}\n",
              "#T_63467_row1_col0, #T_63467_row1_col4, #T_63467_row4_col11 {\n",
              "  background-color: #ecf7b1;\n",
              "  color: #000000;\n",
              "}\n",
              "#T_63467_row1_col3 {\n",
              "  background-color: #e9f7b1;\n",
              "  color: #000000;\n",
              "}\n",
              "#T_63467_row1_col5, #T_63467_row11_col1 {\n",
              "  background-color: #fbfdd0;\n",
              "  color: #000000;\n",
              "}\n",
              "#T_63467_row1_col7, #T_63467_row4_col10 {\n",
              "  background-color: #e0f3b2;\n",
              "  color: #000000;\n",
              "}\n",
              "#T_63467_row1_col8 {\n",
              "  background-color: #7ecdbb;\n",
              "  color: #000000;\n",
              "}\n",
              "#T_63467_row2_col0, #T_63467_row2_col1, #T_63467_row2_col4, #T_63467_row3_col5, #T_63467_row3_col11, #T_63467_row4_col2, #T_63467_row6_col9, #T_63467_row7_col5, #T_63467_row8_col7, #T_63467_row8_col10, #T_63467_row9_col6, #T_63467_row9_col8, #T_63467_row10_col3, #T_63467_row10_col5 {\n",
              "  background-color: #ffffd9;\n",
              "  color: #000000;\n",
              "}\n",
              "#T_63467_row2_col3 {\n",
              "  background-color: #ddf2b2;\n",
              "  color: #000000;\n",
              "}\n",
              "#T_63467_row2_col5, #T_63467_row3_col1, #T_63467_row9_col5 {\n",
              "  background-color: #feffd8;\n",
              "  color: #000000;\n",
              "}\n",
              "#T_63467_row2_col6, #T_63467_row2_col9, #T_63467_row5_col9 {\n",
              "  background-color: #6bc6be;\n",
              "  color: #000000;\n",
              "}\n",
              "#T_63467_row2_col7 {\n",
              "  background-color: #e2f4b2;\n",
              "  color: #000000;\n",
              "}\n",
              "#T_63467_row2_col8, #T_63467_row7_col6 {\n",
              "  background-color: #80cebb;\n",
              "  color: #000000;\n",
              "}\n",
              "#T_63467_row2_col11, #T_63467_row9_col3 {\n",
              "  background-color: #edf8b2;\n",
              "  color: #000000;\n",
              "}\n",
              "#T_63467_row3_col0 {\n",
              "  background-color: #f6fbc5;\n",
              "  color: #000000;\n",
              "}\n",
              "#T_63467_row3_col2, #T_63467_row5_col4 {\n",
              "  background-color: #eaf7b1;\n",
              "  color: #000000;\n",
              "}\n",
              "#T_63467_row3_col4, #T_63467_row4_col0 {\n",
              "  background-color: #f5fbc2;\n",
              "  color: #000000;\n",
              "}\n",
              "#T_63467_row3_col6 {\n",
              "  background-color: #89d1ba;\n",
              "  color: #000000;\n",
              "}\n",
              "#T_63467_row3_col7 {\n",
              "  background-color: #cfecb3;\n",
              "  color: #000000;\n",
              "}\n",
              "#T_63467_row3_col8 {\n",
              "  background-color: #67c4be;\n",
              "  color: #000000;\n",
              "}\n",
              "#T_63467_row3_col9 {\n",
              "  background-color: #73c8bd;\n",
              "  color: #000000;\n",
              "}\n",
              "#T_63467_row3_col10, #T_63467_row9_col1 {\n",
              "  background-color: #fcfed3;\n",
              "  color: #000000;\n",
              "}\n",
              "#T_63467_row4_col1 {\n",
              "  background-color: #f9fdcb;\n",
              "  color: #000000;\n",
              "}\n",
              "#T_63467_row4_col5, #T_63467_row11_col3 {\n",
              "  background-color: #fafdce;\n",
              "  color: #000000;\n",
              "}\n",
              "#T_63467_row4_col7, #T_63467_row5_col7 {\n",
              "  background-color: #e3f4b2;\n",
              "  color: #000000;\n",
              "}\n",
              "#T_63467_row5_col0, #T_63467_row7_col0, #T_63467_row7_col4, #T_63467_row9_col2, #T_63467_row10_col2 {\n",
              "  background-color: #f1faba;\n",
              "  color: #000000;\n",
              "}\n",
              "#T_63467_row5_col1, #T_63467_row8_col11 {\n",
              "  background-color: #f9fdcc;\n",
              "  color: #000000;\n",
              "}\n",
              "#T_63467_row5_col2, #T_63467_row6_col2, #T_63467_row6_col4, #T_63467_row7_col2, #T_63467_row8_col4 {\n",
              "  background-color: #f0f9b8;\n",
              "  color: #000000;\n",
              "}\n",
              "#T_63467_row5_col3 {\n",
              "  background-color: #e7f6b1;\n",
              "  color: #000000;\n",
              "}\n",
              "#T_63467_row5_col8 {\n",
              "  background-color: #7acbbc;\n",
              "  color: #000000;\n",
              "}\n",
              "#T_63467_row5_col11 {\n",
              "  background-color: #1d91c0;\n",
              "  color: #f1f1f1;\n",
              "}\n",
              "#T_63467_row6_col0 {\n",
              "  background-color: #f4fbc0;\n",
              "  color: #000000;\n",
              "}\n",
              "#T_63467_row6_col1, #T_63467_row6_col5, #T_63467_row8_col1, #T_63467_row8_col5 {\n",
              "  background-color: #feffd6;\n",
              "  color: #000000;\n",
              "}\n",
              "#T_63467_row6_col7 {\n",
              "  background-color: #f1fabb;\n",
              "  color: #000000;\n",
              "}\n",
              "#T_63467_row6_col8 {\n",
              "  background-color: #2075b3;\n",
              "  color: #f1f1f1;\n",
              "}\n",
              "#T_63467_row6_col10 {\n",
              "  background-color: #c6e9b4;\n",
              "  color: #000000;\n",
              "}\n",
              "#T_63467_row6_col11, #T_63467_row7_col10 {\n",
              "  background-color: #bde5b5;\n",
              "  color: #000000;\n",
              "}\n",
              "#T_63467_row7_col1 {\n",
              "  background-color: #fcfed1;\n",
              "  color: #000000;\n",
              "}\n",
              "#T_63467_row7_col3 {\n",
              "  background-color: #d3eeb3;\n",
              "  color: #000000;\n",
              "}\n",
              "#T_63467_row7_col8 {\n",
              "  background-color: #c2e7b4;\n",
              "  color: #000000;\n",
              "}\n",
              "#T_63467_row7_col9, #T_63467_row10_col11 {\n",
              "  background-color: #50bbc2;\n",
              "  color: #000000;\n",
              "}\n",
              "#T_63467_row7_col11 {\n",
              "  background-color: #e6f5b2;\n",
              "  color: #000000;\n",
              "}\n",
              "#T_63467_row8_col0, #T_63467_row8_col2, #T_63467_row9_col0, #T_63467_row11_col0 {\n",
              "  background-color: #f2fabc;\n",
              "  color: #000000;\n",
              "}\n",
              "#T_63467_row8_col3 {\n",
              "  background-color: #d5efb3;\n",
              "  color: #000000;\n",
              "}\n",
              "#T_63467_row8_col6 {\n",
              "  background-color: #216daf;\n",
              "  color: #f1f1f1;\n",
              "}\n",
              "#T_63467_row9_col4, #T_63467_row10_col4 {\n",
              "  background-color: #f0f9b7;\n",
              "  color: #000000;\n",
              "}\n",
              "#T_63467_row9_col7 {\n",
              "  background-color: #cbebb4;\n",
              "  color: #000000;\n",
              "}\n",
              "#T_63467_row9_col10 {\n",
              "  background-color: #31a5c2;\n",
              "  color: #f1f1f1;\n",
              "}\n",
              "#T_63467_row9_col11 {\n",
              "  background-color: #daf0b3;\n",
              "  color: #000000;\n",
              "}\n",
              "#T_63467_row10_col6 {\n",
              "  background-color: #4ebbc2;\n",
              "  color: #000000;\n",
              "}\n",
              "#T_63467_row10_col7 {\n",
              "  background-color: #c0e6b5;\n",
              "  color: #000000;\n",
              "}\n",
              "#T_63467_row10_col8 {\n",
              "  background-color: #c4e8b4;\n",
              "  color: #000000;\n",
              "}\n",
              "#T_63467_row10_col9 {\n",
              "  background-color: #2076b3;\n",
              "  color: #f1f1f1;\n",
              "}\n",
              "#T_63467_row11_col2 {\n",
              "  background-color: #eff9b6;\n",
              "  color: #000000;\n",
              "}\n",
              "#T_63467_row11_col5 {\n",
              "  background-color: #2b9fc2;\n",
              "  color: #f1f1f1;\n",
              "}\n",
              "#T_63467_row11_col6 {\n",
              "  background-color: #3cb1c3;\n",
              "  color: #f1f1f1;\n",
              "}\n",
              "#T_63467_row11_col7 {\n",
              "  background-color: #d9f0b3;\n",
              "  color: #000000;\n",
              "}\n",
              "#T_63467_row11_col8 {\n",
              "  background-color: #9cd8b8;\n",
              "  color: #000000;\n",
              "}\n",
              "#T_63467_row11_col9 {\n",
              "  background-color: #52bcc2;\n",
              "  color: #000000;\n",
              "}\n",
              "#T_63467_row11_col10 {\n",
              "  background-color: #40b5c4;\n",
              "  color: #f1f1f1;\n",
              "}\n",
              "</style>\n",
              "<table id=\"T_63467\" class=\"dataframe\">\n",
              "  <thead>\n",
              "    <tr>\n",
              "      <th class=\"blank level0\" >&nbsp;</th>\n",
              "      <th id=\"T_63467_level0_col0\" class=\"col_heading level0 col0\" >Item_Identifier</th>\n",
              "      <th id=\"T_63467_level0_col1\" class=\"col_heading level0 col1\" >Item_Weight</th>\n",
              "      <th id=\"T_63467_level0_col2\" class=\"col_heading level0 col2\" >Item_Fat_Content</th>\n",
              "      <th id=\"T_63467_level0_col3\" class=\"col_heading level0 col3\" >Item_Visibility</th>\n",
              "      <th id=\"T_63467_level0_col4\" class=\"col_heading level0 col4\" >Item_Type</th>\n",
              "      <th id=\"T_63467_level0_col5\" class=\"col_heading level0 col5\" >Item_MRP</th>\n",
              "      <th id=\"T_63467_level0_col6\" class=\"col_heading level0 col6\" >Outlet_Identifier</th>\n",
              "      <th id=\"T_63467_level0_col7\" class=\"col_heading level0 col7\" >Outlet_Establishment_Year</th>\n",
              "      <th id=\"T_63467_level0_col8\" class=\"col_heading level0 col8\" >Outlet_Size</th>\n",
              "      <th id=\"T_63467_level0_col9\" class=\"col_heading level0 col9\" >Outlet_Location_Type</th>\n",
              "      <th id=\"T_63467_level0_col10\" class=\"col_heading level0 col10\" >Outlet_Type</th>\n",
              "      <th id=\"T_63467_level0_col11\" class=\"col_heading level0 col11\" >Item_Outlet_Sales</th>\n",
              "    </tr>\n",
              "  </thead>\n",
              "  <tbody>\n",
              "    <tr>\n",
              "      <th id=\"T_63467_level0_row0\" class=\"row_heading level0 row0\" >Item_Identifier</th>\n",
              "      <td id=\"T_63467_row0_col0\" class=\"data row0 col0\" >1.000000</td>\n",
              "      <td id=\"T_63467_row0_col1\" class=\"data row0 col1\" >0.044517</td>\n",
              "      <td id=\"T_63467_row0_col2\" class=\"data row0 col2\" >-0.098114</td>\n",
              "      <td id=\"T_63467_row0_col3\" class=\"data row0 col3\" >-0.025482</td>\n",
              "      <td id=\"T_63467_row0_col4\" class=\"data row0 col4\" >-0.017973</td>\n",
              "      <td id=\"T_63467_row0_col5\" class=\"data row0 col5\" >0.012853</td>\n",
              "      <td id=\"T_63467_row0_col6\" class=\"data row0 col6\" >-0.008602</td>\n",
              "      <td id=\"T_63467_row0_col7\" class=\"data row0 col7\" >0.012772</td>\n",
              "      <td id=\"T_63467_row0_col8\" class=\"data row0 col8\" >0.001389</td>\n",
              "      <td id=\"T_63467_row0_col9\" class=\"data row0 col9\" >0.003656</td>\n",
              "      <td id=\"T_63467_row0_col10\" class=\"data row0 col10\" >-0.001178</td>\n",
              "      <td id=\"T_63467_row0_col11\" class=\"data row0 col11\" >0.003056</td>\n",
              "    </tr>\n",
              "    <tr>\n",
              "      <th id=\"T_63467_level0_row1\" class=\"row_heading level0 row1\" >Item_Weight</th>\n",
              "      <td id=\"T_63467_row1_col0\" class=\"data row1 col0\" >0.044517</td>\n",
              "      <td id=\"T_63467_row1_col1\" class=\"data row1 col1\" >1.000000</td>\n",
              "      <td id=\"T_63467_row1_col2\" class=\"data row1 col2\" >-0.017330</td>\n",
              "      <td id=\"T_63467_row1_col3\" class=\"data row1 col3\" >-0.012054</td>\n",
              "      <td id=\"T_63467_row1_col4\" class=\"data row1 col4\" >0.028015</td>\n",
              "      <td id=\"T_63467_row1_col5\" class=\"data row1 col5\" >0.024757</td>\n",
              "      <td id=\"T_63467_row1_col6\" class=\"data row1 col6\" >-0.007974</td>\n",
              "      <td id=\"T_63467_row1_col7\" class=\"data row1 col7\" >0.008261</td>\n",
              "      <td id=\"T_63467_row1_col8\" class=\"data row1 col8\" >-0.007233</td>\n",
              "      <td id=\"T_63467_row1_col9\" class=\"data row1 col9\" >0.004082</td>\n",
              "      <td id=\"T_63467_row1_col10\" class=\"data row1 col10\" >-0.000590</td>\n",
              "      <td id=\"T_63467_row1_col11\" class=\"data row1 col11\" >0.012366</td>\n",
              "    </tr>\n",
              "    <tr>\n",
              "      <th id=\"T_63467_level0_row2\" class=\"row_heading level0 row2\" >Item_Fat_Content</th>\n",
              "      <td id=\"T_63467_row2_col0\" class=\"data row2 col0\" >-0.098114</td>\n",
              "      <td id=\"T_63467_row2_col1\" class=\"data row2 col1\" >-0.017330</td>\n",
              "      <td id=\"T_63467_row2_col2\" class=\"data row2 col2\" >1.000000</td>\n",
              "      <td id=\"T_63467_row2_col3\" class=\"data row2 col3\" >0.034042</td>\n",
              "      <td id=\"T_63467_row2_col4\" class=\"data row2 col4\" >-0.115958</td>\n",
              "      <td id=\"T_63467_row2_col5\" class=\"data row2 col5\" >-0.000876</td>\n",
              "      <td id=\"T_63467_row2_col6\" class=\"data row2 col6\" >-0.002357</td>\n",
              "      <td id=\"T_63467_row2_col7\" class=\"data row2 col7\" >0.000189</td>\n",
              "      <td id=\"T_63467_row2_col8\" class=\"data row2 col8\" >-0.012058</td>\n",
              "      <td id=\"T_63467_row2_col9\" class=\"data row2 col9\" >-0.004102</td>\n",
              "      <td id=\"T_63467_row2_col10\" class=\"data row2 col10\" >-0.004214</td>\n",
              "      <td id=\"T_63467_row2_col11\" class=\"data row2 col11\" >0.009839</td>\n",
              "    </tr>\n",
              "    <tr>\n",
              "      <th id=\"T_63467_level0_row3\" class=\"row_heading level0 row3\" >Item_Visibility</th>\n",
              "      <td id=\"T_63467_row3_col0\" class=\"data row3 col0\" >-0.025482</td>\n",
              "      <td id=\"T_63467_row3_col1\" class=\"data row3 col1\" >-0.012054</td>\n",
              "      <td id=\"T_63467_row3_col2\" class=\"data row3 col2\" >0.034042</td>\n",
              "      <td id=\"T_63467_row3_col3\" class=\"data row3 col3\" >1.000000</td>\n",
              "      <td id=\"T_63467_row3_col4\" class=\"data row3 col4\" >-0.035249</td>\n",
              "      <td id=\"T_63467_row3_col5\" class=\"data row3 col5\" >-0.001315</td>\n",
              "      <td id=\"T_63467_row3_col6\" class=\"data row3 col6\" >-0.100439</td>\n",
              "      <td id=\"T_63467_row3_col7\" class=\"data row3 col7\" >0.074834</td>\n",
              "      <td id=\"T_63467_row3_col8\" class=\"data row3 col8\" >0.069309</td>\n",
              "      <td id=\"T_63467_row3_col9\" class=\"data row3 col9\" >-0.028099</td>\n",
              "      <td id=\"T_63467_row3_col10\" class=\"data row3 col10\" >-0.173468</td>\n",
              "      <td id=\"T_63467_row3_col11\" class=\"data row3 col11\" >-0.131600</td>\n",
              "    </tr>\n",
              "    <tr>\n",
              "      <th id=\"T_63467_level0_row4\" class=\"row_heading level0 row4\" >Item_Type</th>\n",
              "      <td id=\"T_63467_row4_col0\" class=\"data row4 col0\" >-0.017973</td>\n",
              "      <td id=\"T_63467_row4_col1\" class=\"data row4 col1\" >0.028015</td>\n",
              "      <td id=\"T_63467_row4_col2\" class=\"data row4 col2\" >-0.115958</td>\n",
              "      <td id=\"T_63467_row4_col3\" class=\"data row4 col3\" >-0.035249</td>\n",
              "      <td id=\"T_63467_row4_col4\" class=\"data row4 col4\" >1.000000</td>\n",
              "      <td id=\"T_63467_row4_col5\" class=\"data row4 col5\" >0.032651</td>\n",
              "      <td id=\"T_63467_row4_col6\" class=\"data row4 col6\" >0.001656</td>\n",
              "      <td id=\"T_63467_row4_col7\" class=\"data row4 col7\" >-0.004970</td>\n",
              "      <td id=\"T_63467_row4_col8\" class=\"data row4 col8\" >-0.001859</td>\n",
              "      <td id=\"T_63467_row4_col9\" class=\"data row4 col9\" >0.003084</td>\n",
              "      <td id=\"T_63467_row4_col10\" class=\"data row4 col10\" >0.003053</td>\n",
              "      <td id=\"T_63467_row4_col11\" class=\"data row4 col11\" >0.017388</td>\n",
              "    </tr>\n",
              "    <tr>\n",
              "      <th id=\"T_63467_level0_row5\" class=\"row_heading level0 row5\" >Item_MRP</th>\n",
              "      <td id=\"T_63467_row5_col0\" class=\"data row5 col0\" >0.012853</td>\n",
              "      <td id=\"T_63467_row5_col1\" class=\"data row5 col1\" >0.024757</td>\n",
              "      <td id=\"T_63467_row5_col2\" class=\"data row5 col2\" >-0.000876</td>\n",
              "      <td id=\"T_63467_row5_col3\" class=\"data row5 col3\" >-0.001315</td>\n",
              "      <td id=\"T_63467_row5_col4\" class=\"data row5 col4\" >0.032651</td>\n",
              "      <td id=\"T_63467_row5_col5\" class=\"data row5 col5\" >1.000000</td>\n",
              "      <td id=\"T_63467_row5_col6\" class=\"data row5 col6\" >0.003319</td>\n",
              "      <td id=\"T_63467_row5_col7\" class=\"data row5 col7\" >-0.005020</td>\n",
              "      <td id=\"T_63467_row5_col8\" class=\"data row5 col8\" >0.006059</td>\n",
              "      <td id=\"T_63467_row5_col9\" class=\"data row5 col9\" >0.000232</td>\n",
              "      <td id=\"T_63467_row5_col10\" class=\"data row5 col10\" >-0.001975</td>\n",
              "      <td id=\"T_63467_row5_col11\" class=\"data row5 col11\" >0.574554</td>\n",
              "    </tr>\n",
              "    <tr>\n",
              "      <th id=\"T_63467_level0_row6\" class=\"row_heading level0 row6\" >Outlet_Identifier</th>\n",
              "      <td id=\"T_63467_row6_col0\" class=\"data row6 col0\" >-0.008602</td>\n",
              "      <td id=\"T_63467_row6_col1\" class=\"data row6 col1\" >-0.007974</td>\n",
              "      <td id=\"T_63467_row6_col2\" class=\"data row6 col2\" >-0.002357</td>\n",
              "      <td id=\"T_63467_row6_col3\" class=\"data row6 col3\" >-0.100439</td>\n",
              "      <td id=\"T_63467_row6_col4\" class=\"data row6 col4\" >0.001656</td>\n",
              "      <td id=\"T_63467_row6_col5\" class=\"data row6 col5\" >0.003319</td>\n",
              "      <td id=\"T_63467_row6_col6\" class=\"data row6 col6\" >1.000000</td>\n",
              "      <td id=\"T_63467_row6_col7\" class=\"data row6 col7\" >-0.079035</td>\n",
              "      <td id=\"T_63467_row6_col8\" class=\"data row6 col8\" >0.504603</td>\n",
              "      <td id=\"T_63467_row6_col9\" class=\"data row6 col9\" >-0.716176</td>\n",
              "      <td id=\"T_63467_row6_col10\" class=\"data row6 col10\" >0.099873</td>\n",
              "      <td id=\"T_63467_row6_col11\" class=\"data row6 col11\" >0.169321</td>\n",
              "    </tr>\n",
              "    <tr>\n",
              "      <th id=\"T_63467_level0_row7\" class=\"row_heading level0 row7\" >Outlet_Establishment_Year</th>\n",
              "      <td id=\"T_63467_row7_col0\" class=\"data row7 col0\" >0.012772</td>\n",
              "      <td id=\"T_63467_row7_col1\" class=\"data row7 col1\" >0.008261</td>\n",
              "      <td id=\"T_63467_row7_col2\" class=\"data row7 col2\" >0.000189</td>\n",
              "      <td id=\"T_63467_row7_col3\" class=\"data row7 col3\" >0.074834</td>\n",
              "      <td id=\"T_63467_row7_col4\" class=\"data row7 col4\" >-0.004970</td>\n",
              "      <td id=\"T_63467_row7_col5\" class=\"data row7 col5\" >-0.005020</td>\n",
              "      <td id=\"T_63467_row7_col6\" class=\"data row7 col6\" >-0.079035</td>\n",
              "      <td id=\"T_63467_row7_col7\" class=\"data row7 col7\" >1.000000</td>\n",
              "      <td id=\"T_63467_row7_col8\" class=\"data row7 col8\" >-0.193389</td>\n",
              "      <td id=\"T_63467_row7_col9\" class=\"data row7 col9\" >0.089216</td>\n",
              "      <td id=\"T_63467_row7_col10\" class=\"data row7 col10\" >0.122304</td>\n",
              "      <td id=\"T_63467_row7_col11\" class=\"data row7 col11\" >0.037133</td>\n",
              "    </tr>\n",
              "    <tr>\n",
              "      <th id=\"T_63467_level0_row8\" class=\"row_heading level0 row8\" >Outlet_Size</th>\n",
              "      <td id=\"T_63467_row8_col0\" class=\"data row8 col0\" >0.001389</td>\n",
              "      <td id=\"T_63467_row8_col1\" class=\"data row8 col1\" >-0.007233</td>\n",
              "      <td id=\"T_63467_row8_col2\" class=\"data row8 col2\" >-0.012058</td>\n",
              "      <td id=\"T_63467_row8_col3\" class=\"data row8 col3\" >0.069309</td>\n",
              "      <td id=\"T_63467_row8_col4\" class=\"data row8 col4\" >-0.001859</td>\n",
              "      <td id=\"T_63467_row8_col5\" class=\"data row8 col5\" >0.006059</td>\n",
              "      <td id=\"T_63467_row8_col6\" class=\"data row8 col6\" >0.504603</td>\n",
              "      <td id=\"T_63467_row8_col7\" class=\"data row8 col7\" >-0.193389</td>\n",
              "      <td id=\"T_63467_row8_col8\" class=\"data row8 col8\" >1.000000</td>\n",
              "      <td id=\"T_63467_row8_col9\" class=\"data row8 col9\" >-0.614311</td>\n",
              "      <td id=\"T_63467_row8_col10\" class=\"data row8 col10\" >-0.201483</td>\n",
              "      <td id=\"T_63467_row8_col11\" class=\"data row8 col11\" >-0.087251</td>\n",
              "    </tr>\n",
              "    <tr>\n",
              "      <th id=\"T_63467_level0_row9\" class=\"row_heading level0 row9\" >Outlet_Location_Type</th>\n",
              "      <td id=\"T_63467_row9_col0\" class=\"data row9 col0\" >0.003656</td>\n",
              "      <td id=\"T_63467_row9_col1\" class=\"data row9 col1\" >0.004082</td>\n",
              "      <td id=\"T_63467_row9_col2\" class=\"data row9 col2\" >-0.004102</td>\n",
              "      <td id=\"T_63467_row9_col3\" class=\"data row9 col3\" >-0.028099</td>\n",
              "      <td id=\"T_63467_row9_col4\" class=\"data row9 col4\" >0.003084</td>\n",
              "      <td id=\"T_63467_row9_col5\" class=\"data row9 col5\" >0.000232</td>\n",
              "      <td id=\"T_63467_row9_col6\" class=\"data row9 col6\" >-0.716176</td>\n",
              "      <td id=\"T_63467_row9_col7\" class=\"data row9 col7\" >0.089216</td>\n",
              "      <td id=\"T_63467_row9_col8\" class=\"data row9 col8\" >-0.614311</td>\n",
              "      <td id=\"T_63467_row9_col9\" class=\"data row9 col9\" >1.000000</td>\n",
              "      <td id=\"T_63467_row9_col10\" class=\"data row9 col10\" >0.467219</td>\n",
              "      <td id=\"T_63467_row9_col11\" class=\"data row9 col11\" >0.083727</td>\n",
              "    </tr>\n",
              "    <tr>\n",
              "      <th id=\"T_63467_level0_row10\" class=\"row_heading level0 row10\" >Outlet_Type</th>\n",
              "      <td id=\"T_63467_row10_col0\" class=\"data row10 col0\" >-0.001178</td>\n",
              "      <td id=\"T_63467_row10_col1\" class=\"data row10 col1\" >-0.000590</td>\n",
              "      <td id=\"T_63467_row10_col2\" class=\"data row10 col2\" >-0.004214</td>\n",
              "      <td id=\"T_63467_row10_col3\" class=\"data row10 col3\" >-0.173468</td>\n",
              "      <td id=\"T_63467_row10_col4\" class=\"data row10 col4\" >0.003053</td>\n",
              "      <td id=\"T_63467_row10_col5\" class=\"data row10 col5\" >-0.001975</td>\n",
              "      <td id=\"T_63467_row10_col6\" class=\"data row10 col6\" >0.099873</td>\n",
              "      <td id=\"T_63467_row10_col7\" class=\"data row10 col7\" >0.122304</td>\n",
              "      <td id=\"T_63467_row10_col8\" class=\"data row10 col8\" >-0.201483</td>\n",
              "      <td id=\"T_63467_row10_col9\" class=\"data row10 col9\" >0.467219</td>\n",
              "      <td id=\"T_63467_row10_col10\" class=\"data row10 col10\" >1.000000</td>\n",
              "      <td id=\"T_63467_row10_col11\" class=\"data row10 col11\" >0.399640</td>\n",
              "    </tr>\n",
              "    <tr>\n",
              "      <th id=\"T_63467_level0_row11\" class=\"row_heading level0 row11\" >Item_Outlet_Sales</th>\n",
              "      <td id=\"T_63467_row11_col0\" class=\"data row11 col0\" >0.003056</td>\n",
              "      <td id=\"T_63467_row11_col1\" class=\"data row11 col1\" >0.012366</td>\n",
              "      <td id=\"T_63467_row11_col2\" class=\"data row11 col2\" >0.009839</td>\n",
              "      <td id=\"T_63467_row11_col3\" class=\"data row11 col3\" >-0.131600</td>\n",
              "      <td id=\"T_63467_row11_col4\" class=\"data row11 col4\" >0.017388</td>\n",
              "      <td id=\"T_63467_row11_col5\" class=\"data row11 col5\" >0.574554</td>\n",
              "      <td id=\"T_63467_row11_col6\" class=\"data row11 col6\" >0.169321</td>\n",
              "      <td id=\"T_63467_row11_col7\" class=\"data row11 col7\" >0.037133</td>\n",
              "      <td id=\"T_63467_row11_col8\" class=\"data row11 col8\" >-0.087251</td>\n",
              "      <td id=\"T_63467_row11_col9\" class=\"data row11 col9\" >0.083727</td>\n",
              "      <td id=\"T_63467_row11_col10\" class=\"data row11 col10\" >0.399640</td>\n",
              "      <td id=\"T_63467_row11_col11\" class=\"data row11 col11\" >1.000000</td>\n",
              "    </tr>\n",
              "  </tbody>\n",
              "</table>\n"
            ]
          },
          "metadata": {},
          "execution_count": 40
        }
      ]
    },
    {
      "cell_type": "code",
      "source": [
        "data.drop(['Item_Identifier'],axis=1,inplace = True)"
      ],
      "metadata": {
        "id": "gMQP_TkIa2NI"
      },
      "execution_count": 41,
      "outputs": []
    },
    {
      "cell_type": "code",
      "source": [
        "data.drop(['Outlet_Identifier'],axis=1,inplace = True)"
      ],
      "metadata": {
        "id": "mrTUkb-ca2PX"
      },
      "execution_count": 42,
      "outputs": []
    },
    {
      "cell_type": "code",
      "source": [
        "data.drop(['Item_Weight'],axis=1,inplace = True)"
      ],
      "metadata": {
        "id": "_azS9GnSk3qA"
      },
      "execution_count": 43,
      "outputs": []
    },
    {
      "cell_type": "code",
      "source": [
        "x=data.drop(['Item_Outlet_Sales'],axis=1)\n",
        "y=data['Item_Outlet_Sales']"
      ],
      "metadata": {
        "id": "fkCf3X04a2SK"
      },
      "execution_count": 44,
      "outputs": []
    },
    {
      "cell_type": "code",
      "source": [
        "from sklearn.model_selection import train_test_split\n",
        "x_train,x_test,y_train,y_test=train_test_split(x,y,random_state=44,test_size=0.3)"
      ],
      "metadata": {
        "id": "JJuZX7joa2Vp"
      },
      "execution_count": 45,
      "outputs": []
    },
    {
      "cell_type": "markdown",
      "source": [
        "# Models"
      ],
      "metadata": {
        "id": "lSdD_oplvAKx"
      }
    },
    {
      "cell_type": "code",
      "source": [
        "from sklearn.linear_model import LinearRegression\n",
        "\n",
        "model = LinearRegression()\n",
        "model.fit(x_train, y_train)\n",
        "\n",
        "y_pred = model.predict(x_test)\n",
        "accuracy = model.score(x_test, y_test)\n",
        "print('Accuracy:', accuracy)\n",
        "\n"
      ],
      "metadata": {
        "colab": {
          "base_uri": "https://localhost:8080/"
        },
        "id": "iuha2zWVfBSX",
        "outputId": "352a5953-db69-4370-eab3-1f4dd17499b2"
      },
      "execution_count": 46,
      "outputs": [
        {
          "output_type": "stream",
          "name": "stdout",
          "text": [
            "Accuracy: 0.521778816914465\n"
          ]
        }
      ]
    },
    {
      "cell_type": "code",
      "source": [
        "from sklearn.linear_model import Ridge\n",
        "\n",
        "model = Ridge()\n",
        "model.fit(x_train, y_train)\n",
        "\n",
        "accuracy = model.score(x_test, y_test)\n",
        "print('Accuracy:', accuracy)\n"
      ],
      "metadata": {
        "colab": {
          "base_uri": "https://localhost:8080/"
        },
        "id": "xim0q1SpfBUh",
        "outputId": "635b5d52-5e64-4c74-a3a9-8edf3c8b9783"
      },
      "execution_count": 47,
      "outputs": [
        {
          "output_type": "stream",
          "name": "stdout",
          "text": [
            "Accuracy: 0.521731610763383\n"
          ]
        }
      ]
    },
    {
      "cell_type": "code",
      "source": [
        "from sklearn.ensemble import RandomForestRegressor\n",
        "\n",
        "model = RandomForestRegressor(n_estimators=100)\n",
        "model.fit(x_train, y_train)\n",
        "\n",
        "accuracy = model.score(x_test, y_test)\n",
        "print('Accuracy:', accuracy)"
      ],
      "metadata": {
        "colab": {
          "base_uri": "https://localhost:8080/"
        },
        "id": "Qe08R2GjfBW0",
        "outputId": "b6fef914-a95c-49eb-f4d2-4996aad1ffbf"
      },
      "execution_count": 48,
      "outputs": [
        {
          "output_type": "stream",
          "name": "stdout",
          "text": [
            "Accuracy: 0.5833361315887644\n"
          ]
        }
      ]
    },
    {
      "cell_type": "code",
      "source": [
        "from sklearn.ensemble import GradientBoostingRegressor\n",
        "\n",
        "model = GradientBoostingRegressor(max_depth=3, learning_rate=0.1, n_estimators=100)\n",
        "model.fit(x_train, y_train)\n",
        "\n",
        "accuracy = model.score(x_test, y_test)\n",
        "print('Accuracy:', accuracy)\n"
      ],
      "metadata": {
        "colab": {
          "base_uri": "https://localhost:8080/"
        },
        "id": "6fUgWW4gqMOY",
        "outputId": "b074e77c-7890-41f9-8f8e-8acf7b8170c0"
      },
      "execution_count": 49,
      "outputs": [
        {
          "output_type": "stream",
          "name": "stdout",
          "text": [
            "Accuracy: 0.6187361379327998\n"
          ]
        }
      ]
    },
    {
      "cell_type": "code",
      "source": [
        "import xgboost as xgb\n",
        "from sklearn.metrics import r2_score\n",
        "\n",
        "# Create a DMatrix object for the XGBoost model\n",
        "dtrain = xgb.DMatrix(x_train, label=y_train)\n",
        "\n",
        "# Set the hyperparameters for the model\n",
        "params = {\n",
        "    'max_depth': 3,\n",
        "    'eta': 0.1,\n",
        "    'objective': 'reg:squarederror'\n",
        "}\n",
        "\n",
        "# Train the XGBoost model\n",
        "model = xgb.train(params, dtrain, num_boost_round=100)\n",
        "\n",
        "# Predict the target variable for new data\n",
        "dtest = xgb.DMatrix(x_test)\n",
        "predictions = model.predict(dtest)\n",
        "\n",
        "# Calculate the R-squared score of the model on the testing data\n",
        "r2 = r2_score(y_test, predictions)\n",
        "\n",
        "print('R-squared score:', r2)"
      ],
      "metadata": {
        "colab": {
          "base_uri": "https://localhost:8080/"
        },
        "id": "MPlGOfnpfBaM",
        "outputId": "b0ef0da7-22b9-4922-df1c-36dd168a64e7"
      },
      "execution_count": 50,
      "outputs": [
        {
          "output_type": "stream",
          "name": "stdout",
          "text": [
            "R-squared score: 0.6198907287323745\n"
          ]
        }
      ]
    },
    {
      "cell_type": "markdown",
      "source": [
        "# Test"
      ],
      "metadata": {
        "id": "CRPrmM0geSqa"
      }
    },
    {
      "cell_type": "code",
      "source": [
        "datatest = pd.read_csv(\"/content/Test.csv\")"
      ],
      "metadata": {
        "id": "jqIVnlSqd-M8"
      },
      "execution_count": 83,
      "outputs": []
    },
    {
      "cell_type": "code",
      "source": [
        "datatest.columns"
      ],
      "metadata": {
        "colab": {
          "base_uri": "https://localhost:8080/"
        },
        "id": "Apdb01xZd-PP",
        "outputId": "feba33ec-39b6-49e2-a621-a33b6078add2"
      },
      "execution_count": 84,
      "outputs": [
        {
          "output_type": "execute_result",
          "data": {
            "text/plain": [
              "Index(['Item_Identifier', 'Item_Weight', 'Item_Fat_Content', 'Item_Visibility',\n",
              "       'Item_Type', 'Item_MRP', 'Outlet_Identifier',\n",
              "       'Outlet_Establishment_Year', 'Outlet_Size', 'Outlet_Location_Type',\n",
              "       'Outlet_Type'],\n",
              "      dtype='object')"
            ]
          },
          "metadata": {},
          "execution_count": 84
        }
      ]
    },
    {
      "cell_type": "code",
      "source": [
        "datatest.info()"
      ],
      "metadata": {
        "colab": {
          "base_uri": "https://localhost:8080/"
        },
        "id": "1i6ezr_Nd-Rt",
        "outputId": "d5282902-e714-4522-dda5-3cd378b8e6b4"
      },
      "execution_count": 85,
      "outputs": [
        {
          "output_type": "stream",
          "name": "stdout",
          "text": [
            "<class 'pandas.core.frame.DataFrame'>\n",
            "RangeIndex: 5681 entries, 0 to 5680\n",
            "Data columns (total 11 columns):\n",
            " #   Column                     Non-Null Count  Dtype  \n",
            "---  ------                     --------------  -----  \n",
            " 0   Item_Identifier            5681 non-null   object \n",
            " 1   Item_Weight                4705 non-null   float64\n",
            " 2   Item_Fat_Content           5681 non-null   object \n",
            " 3   Item_Visibility            5681 non-null   float64\n",
            " 4   Item_Type                  5681 non-null   object \n",
            " 5   Item_MRP                   5681 non-null   float64\n",
            " 6   Outlet_Identifier          5681 non-null   object \n",
            " 7   Outlet_Establishment_Year  5681 non-null   int64  \n",
            " 8   Outlet_Size                4075 non-null   object \n",
            " 9   Outlet_Location_Type       5681 non-null   object \n",
            " 10  Outlet_Type                5681 non-null   object \n",
            "dtypes: float64(3), int64(1), object(7)\n",
            "memory usage: 488.3+ KB\n"
          ]
        }
      ]
    },
    {
      "cell_type": "code",
      "source": [
        "datatest.head()"
      ],
      "metadata": {
        "colab": {
          "base_uri": "https://localhost:8080/",
          "height": 206
        },
        "id": "mJrRXiljd-VH",
        "outputId": "45670cba-5e70-4d14-9773-1b0285feece2"
      },
      "execution_count": 86,
      "outputs": [
        {
          "output_type": "execute_result",
          "data": {
            "text/plain": [
              "  Item_Identifier  Item_Weight Item_Fat_Content  Item_Visibility    Item_Type  \\\n",
              "0           FDW58       20.750          Low Fat         0.007565  Snack Foods   \n",
              "1           FDW14        8.300              reg         0.038428        Dairy   \n",
              "2           NCN55       14.600          Low Fat         0.099575       Others   \n",
              "3           FDQ58        7.315          Low Fat         0.015388  Snack Foods   \n",
              "4           FDY38          NaN          Regular         0.118599        Dairy   \n",
              "\n",
              "   Item_MRP Outlet_Identifier  Outlet_Establishment_Year Outlet_Size  \\\n",
              "0  107.8622            OUT049                       1999      Medium   \n",
              "1   87.3198            OUT017                       2007         NaN   \n",
              "2  241.7538            OUT010                       1998         NaN   \n",
              "3  155.0340            OUT017                       2007         NaN   \n",
              "4  234.2300            OUT027                       1985      Medium   \n",
              "\n",
              "  Outlet_Location_Type        Outlet_Type  \n",
              "0               Tier 1  Supermarket Type1  \n",
              "1               Tier 2  Supermarket Type1  \n",
              "2               Tier 3      Grocery Store  \n",
              "3               Tier 2  Supermarket Type1  \n",
              "4               Tier 3  Supermarket Type3  "
            ],
            "text/html": [
              "\n",
              "  <div id=\"df-6e73e082-12af-40e7-a2ce-0474e8e114ee\">\n",
              "    <div class=\"colab-df-container\">\n",
              "      <div>\n",
              "<style scoped>\n",
              "    .dataframe tbody tr th:only-of-type {\n",
              "        vertical-align: middle;\n",
              "    }\n",
              "\n",
              "    .dataframe tbody tr th {\n",
              "        vertical-align: top;\n",
              "    }\n",
              "\n",
              "    .dataframe thead th {\n",
              "        text-align: right;\n",
              "    }\n",
              "</style>\n",
              "<table border=\"1\" class=\"dataframe\">\n",
              "  <thead>\n",
              "    <tr style=\"text-align: right;\">\n",
              "      <th></th>\n",
              "      <th>Item_Identifier</th>\n",
              "      <th>Item_Weight</th>\n",
              "      <th>Item_Fat_Content</th>\n",
              "      <th>Item_Visibility</th>\n",
              "      <th>Item_Type</th>\n",
              "      <th>Item_MRP</th>\n",
              "      <th>Outlet_Identifier</th>\n",
              "      <th>Outlet_Establishment_Year</th>\n",
              "      <th>Outlet_Size</th>\n",
              "      <th>Outlet_Location_Type</th>\n",
              "      <th>Outlet_Type</th>\n",
              "    </tr>\n",
              "  </thead>\n",
              "  <tbody>\n",
              "    <tr>\n",
              "      <th>0</th>\n",
              "      <td>FDW58</td>\n",
              "      <td>20.750</td>\n",
              "      <td>Low Fat</td>\n",
              "      <td>0.007565</td>\n",
              "      <td>Snack Foods</td>\n",
              "      <td>107.8622</td>\n",
              "      <td>OUT049</td>\n",
              "      <td>1999</td>\n",
              "      <td>Medium</td>\n",
              "      <td>Tier 1</td>\n",
              "      <td>Supermarket Type1</td>\n",
              "    </tr>\n",
              "    <tr>\n",
              "      <th>1</th>\n",
              "      <td>FDW14</td>\n",
              "      <td>8.300</td>\n",
              "      <td>reg</td>\n",
              "      <td>0.038428</td>\n",
              "      <td>Dairy</td>\n",
              "      <td>87.3198</td>\n",
              "      <td>OUT017</td>\n",
              "      <td>2007</td>\n",
              "      <td>NaN</td>\n",
              "      <td>Tier 2</td>\n",
              "      <td>Supermarket Type1</td>\n",
              "    </tr>\n",
              "    <tr>\n",
              "      <th>2</th>\n",
              "      <td>NCN55</td>\n",
              "      <td>14.600</td>\n",
              "      <td>Low Fat</td>\n",
              "      <td>0.099575</td>\n",
              "      <td>Others</td>\n",
              "      <td>241.7538</td>\n",
              "      <td>OUT010</td>\n",
              "      <td>1998</td>\n",
              "      <td>NaN</td>\n",
              "      <td>Tier 3</td>\n",
              "      <td>Grocery Store</td>\n",
              "    </tr>\n",
              "    <tr>\n",
              "      <th>3</th>\n",
              "      <td>FDQ58</td>\n",
              "      <td>7.315</td>\n",
              "      <td>Low Fat</td>\n",
              "      <td>0.015388</td>\n",
              "      <td>Snack Foods</td>\n",
              "      <td>155.0340</td>\n",
              "      <td>OUT017</td>\n",
              "      <td>2007</td>\n",
              "      <td>NaN</td>\n",
              "      <td>Tier 2</td>\n",
              "      <td>Supermarket Type1</td>\n",
              "    </tr>\n",
              "    <tr>\n",
              "      <th>4</th>\n",
              "      <td>FDY38</td>\n",
              "      <td>NaN</td>\n",
              "      <td>Regular</td>\n",
              "      <td>0.118599</td>\n",
              "      <td>Dairy</td>\n",
              "      <td>234.2300</td>\n",
              "      <td>OUT027</td>\n",
              "      <td>1985</td>\n",
              "      <td>Medium</td>\n",
              "      <td>Tier 3</td>\n",
              "      <td>Supermarket Type3</td>\n",
              "    </tr>\n",
              "  </tbody>\n",
              "</table>\n",
              "</div>\n",
              "      <button class=\"colab-df-convert\" onclick=\"convertToInteractive('df-6e73e082-12af-40e7-a2ce-0474e8e114ee')\"\n",
              "              title=\"Convert this dataframe to an interactive table.\"\n",
              "              style=\"display:none;\">\n",
              "        \n",
              "  <svg xmlns=\"http://www.w3.org/2000/svg\" height=\"24px\"viewBox=\"0 0 24 24\"\n",
              "       width=\"24px\">\n",
              "    <path d=\"M0 0h24v24H0V0z\" fill=\"none\"/>\n",
              "    <path d=\"M18.56 5.44l.94 2.06.94-2.06 2.06-.94-2.06-.94-.94-2.06-.94 2.06-2.06.94zm-11 1L8.5 8.5l.94-2.06 2.06-.94-2.06-.94L8.5 2.5l-.94 2.06-2.06.94zm10 10l.94 2.06.94-2.06 2.06-.94-2.06-.94-.94-2.06-.94 2.06-2.06.94z\"/><path d=\"M17.41 7.96l-1.37-1.37c-.4-.4-.92-.59-1.43-.59-.52 0-1.04.2-1.43.59L10.3 9.45l-7.72 7.72c-.78.78-.78 2.05 0 2.83L4 21.41c.39.39.9.59 1.41.59.51 0 1.02-.2 1.41-.59l7.78-7.78 2.81-2.81c.8-.78.8-2.07 0-2.86zM5.41 20L4 18.59l7.72-7.72 1.47 1.35L5.41 20z\"/>\n",
              "  </svg>\n",
              "      </button>\n",
              "      \n",
              "  <style>\n",
              "    .colab-df-container {\n",
              "      display:flex;\n",
              "      flex-wrap:wrap;\n",
              "      gap: 12px;\n",
              "    }\n",
              "\n",
              "    .colab-df-convert {\n",
              "      background-color: #E8F0FE;\n",
              "      border: none;\n",
              "      border-radius: 50%;\n",
              "      cursor: pointer;\n",
              "      display: none;\n",
              "      fill: #1967D2;\n",
              "      height: 32px;\n",
              "      padding: 0 0 0 0;\n",
              "      width: 32px;\n",
              "    }\n",
              "\n",
              "    .colab-df-convert:hover {\n",
              "      background-color: #E2EBFA;\n",
              "      box-shadow: 0px 1px 2px rgba(60, 64, 67, 0.3), 0px 1px 3px 1px rgba(60, 64, 67, 0.15);\n",
              "      fill: #174EA6;\n",
              "    }\n",
              "\n",
              "    [theme=dark] .colab-df-convert {\n",
              "      background-color: #3B4455;\n",
              "      fill: #D2E3FC;\n",
              "    }\n",
              "\n",
              "    [theme=dark] .colab-df-convert:hover {\n",
              "      background-color: #434B5C;\n",
              "      box-shadow: 0px 1px 3px 1px rgba(0, 0, 0, 0.15);\n",
              "      filter: drop-shadow(0px 1px 2px rgba(0, 0, 0, 0.3));\n",
              "      fill: #FFFFFF;\n",
              "    }\n",
              "  </style>\n",
              "\n",
              "      <script>\n",
              "        const buttonEl =\n",
              "          document.querySelector('#df-6e73e082-12af-40e7-a2ce-0474e8e114ee button.colab-df-convert');\n",
              "        buttonEl.style.display =\n",
              "          google.colab.kernel.accessAllowed ? 'block' : 'none';\n",
              "\n",
              "        async function convertToInteractive(key) {\n",
              "          const element = document.querySelector('#df-6e73e082-12af-40e7-a2ce-0474e8e114ee');\n",
              "          const dataTable =\n",
              "            await google.colab.kernel.invokeFunction('convertToInteractive',\n",
              "                                                     [key], {});\n",
              "          if (!dataTable) return;\n",
              "\n",
              "          const docLinkHtml = 'Like what you see? Visit the ' +\n",
              "            '<a target=\"_blank\" href=https://colab.research.google.com/notebooks/data_table.ipynb>data table notebook</a>'\n",
              "            + ' to learn more about interactive tables.';\n",
              "          element.innerHTML = '';\n",
              "          dataTable['output_type'] = 'display_data';\n",
              "          await google.colab.output.renderOutput(dataTable, element);\n",
              "          const docLink = document.createElement('div');\n",
              "          docLink.innerHTML = docLinkHtml;\n",
              "          element.appendChild(docLink);\n",
              "        }\n",
              "      </script>\n",
              "    </div>\n",
              "  </div>\n",
              "  "
            ]
          },
          "metadata": {},
          "execution_count": 86
        }
      ]
    },
    {
      "cell_type": "code",
      "source": [
        "datatest.isnull().sum()"
      ],
      "metadata": {
        "colab": {
          "base_uri": "https://localhost:8080/"
        },
        "id": "iYvWK-27e6qr",
        "outputId": "89991542-9621-430a-956e-4b5eb2a8ad67"
      },
      "execution_count": 87,
      "outputs": [
        {
          "output_type": "execute_result",
          "data": {
            "text/plain": [
              "Item_Identifier                 0\n",
              "Item_Weight                   976\n",
              "Item_Fat_Content                0\n",
              "Item_Visibility                 0\n",
              "Item_Type                       0\n",
              "Item_MRP                        0\n",
              "Outlet_Identifier               0\n",
              "Outlet_Establishment_Year       0\n",
              "Outlet_Size                  1606\n",
              "Outlet_Location_Type            0\n",
              "Outlet_Type                     0\n",
              "dtype: int64"
            ]
          },
          "metadata": {},
          "execution_count": 87
        }
      ]
    },
    {
      "cell_type": "code",
      "source": [
        "datatest['Item_Weight'].mean()"
      ],
      "metadata": {
        "colab": {
          "base_uri": "https://localhost:8080/"
        },
        "id": "7Ay0GtzLe6uH",
        "outputId": "f22c821b-a608-4641-dd9e-656c9f434852"
      },
      "execution_count": 88,
      "outputs": [
        {
          "output_type": "execute_result",
          "data": {
            "text/plain": [
              "12.695633368756642"
            ]
          },
          "metadata": {},
          "execution_count": 88
        }
      ]
    },
    {
      "cell_type": "code",
      "source": [
        "datatest['Item_Weight'] = datatest['Item_Weight'].fillna(12.695)"
      ],
      "metadata": {
        "id": "f7lpdGq4e62K"
      },
      "execution_count": 89,
      "outputs": []
    },
    {
      "cell_type": "code",
      "source": [
        "datatest['Outlet_Size'].mode()"
      ],
      "metadata": {
        "colab": {
          "base_uri": "https://localhost:8080/"
        },
        "id": "48Vl4X1ve65N",
        "outputId": "296cf85a-60dd-4d4d-9de9-88f1ae57d21d"
      },
      "execution_count": 90,
      "outputs": [
        {
          "output_type": "execute_result",
          "data": {
            "text/plain": [
              "0    Medium\n",
              "Name: Outlet_Size, dtype: object"
            ]
          },
          "metadata": {},
          "execution_count": 90
        }
      ]
    },
    {
      "cell_type": "code",
      "source": [
        "datatest['Outlet_Size'] = datatest['Outlet_Size'].fillna('Medium')"
      ],
      "metadata": {
        "id": "oVnrbFIge68a"
      },
      "execution_count": 91,
      "outputs": []
    },
    {
      "cell_type": "code",
      "source": [
        "datatest.isnull().sum()"
      ],
      "metadata": {
        "colab": {
          "base_uri": "https://localhost:8080/"
        },
        "id": "amjbhVe-e6_5",
        "outputId": "a9a1c3b2-37fb-499d-ca5a-c35924543ad7"
      },
      "execution_count": 92,
      "outputs": [
        {
          "output_type": "execute_result",
          "data": {
            "text/plain": [
              "Item_Identifier              0\n",
              "Item_Weight                  0\n",
              "Item_Fat_Content             0\n",
              "Item_Visibility              0\n",
              "Item_Type                    0\n",
              "Item_MRP                     0\n",
              "Outlet_Identifier            0\n",
              "Outlet_Establishment_Year    0\n",
              "Outlet_Size                  0\n",
              "Outlet_Location_Type         0\n",
              "Outlet_Type                  0\n",
              "dtype: int64"
            ]
          },
          "metadata": {},
          "execution_count": 92
        }
      ]
    },
    {
      "cell_type": "code",
      "source": [
        "sum(datatest.duplicated()) == 0"
      ],
      "metadata": {
        "colab": {
          "base_uri": "https://localhost:8080/"
        },
        "id": "wm9tncFNgFPY",
        "outputId": "4fdf989c-82a2-4bf1-94a0-08e8fe9b842b"
      },
      "execution_count": 93,
      "outputs": [
        {
          "output_type": "execute_result",
          "data": {
            "text/plain": [
              "True"
            ]
          },
          "metadata": {},
          "execution_count": 93
        }
      ]
    },
    {
      "cell_type": "code",
      "source": [
        "sns.boxplot(data=datatest,palette='rainbow',orient='h')"
      ],
      "metadata": {
        "colab": {
          "base_uri": "https://localhost:8080/",
          "height": 447
        },
        "id": "AfOEKUI7gFUr",
        "outputId": "7e384ffe-b92f-4fa9-c4cd-3217918a6152"
      },
      "execution_count": 94,
      "outputs": [
        {
          "output_type": "execute_result",
          "data": {
            "text/plain": [
              "<Axes: >"
            ]
          },
          "metadata": {},
          "execution_count": 94
        },
        {
          "output_type": "display_data",
          "data": {
            "text/plain": [
              "<Figure size 640x480 with 1 Axes>"
            ],
            "image/png": "[encoded data removed]"
          },
          "metadata": {}
        }
      ]
    },
    {
      "cell_type": "code",
      "source": [
        "datatest['Item_Identifier'].unique()"
      ],
      "metadata": {
        "colab": {
          "base_uri": "https://localhost:8080/"
        },
        "id": "GNJuUWzIgFSI",
        "outputId": "98db1832-314b-4b65-81be-c3d7f4bee80c"
      },
      "execution_count": 95,
      "outputs": [
        {
          "output_type": "execute_result",
          "data": {
            "text/plain": [
              "array(['FDW58', 'FDW14', 'NCN55', ..., 'NCI29', 'FDP28', 'FDF04'],\n",
              "      dtype=object)"
            ]
          },
          "metadata": {},
          "execution_count": 95
        }
      ]
    },
    {
      "cell_type": "code",
      "source": [
        "label_encoder = preprocessing.LabelEncoder()\n",
        "datatest['Item_Identifier']= label_encoder.fit_transform(datatest['Item_Identifier'])\n",
        "datatest['Item_Identifier'].unique()"
      ],
      "metadata": {
        "colab": {
          "base_uri": "https://localhost:8080/"
        },
        "id": "iRqaTkqzgFXK",
        "outputId": "53d23651-a639-42e1-ee60-436fab88da54"
      },
      "execution_count": 96,
      "outputs": [
        {
          "output_type": "execute_result",
          "data": {
            "text/plain": [
              "array([1103, 1067, 1406, ..., 1332,  745,  356])"
            ]
          },
          "metadata": {},
          "execution_count": 96
        }
      ]
    },
    {
      "cell_type": "code",
      "source": [
        "datatest['Item_Fat_Content'].unique()"
      ],
      "metadata": {
        "colab": {
          "base_uri": "https://localhost:8080/"
        },
        "id": "zVR-IB8lhfXU",
        "outputId": "43267c69-a809-4f22-edf1-7a7af29743e5"
      },
      "execution_count": 97,
      "outputs": [
        {
          "output_type": "execute_result",
          "data": {
            "text/plain": [
              "array(['Low Fat', 'reg', 'Regular', 'LF', 'low fat'], dtype=object)"
            ]
          },
          "metadata": {},
          "execution_count": 97
        }
      ]
    },
    {
      "cell_type": "code",
      "source": [
        "label_encoder = preprocessing.LabelEncoder()\n",
        "datatest['Item_Fat_Content']= label_encoder.fit_transform(datatest['Item_Fat_Content'])\n",
        "datatest['Item_Fat_Content'].unique()"
      ],
      "metadata": {
        "colab": {
          "base_uri": "https://localhost:8080/"
        },
        "id": "bW4sKYNthfZ0",
        "outputId": "888d89e1-3f0c-4c3c-b1e9-3cd0af72c773"
      },
      "execution_count": 98,
      "outputs": [
        {
          "output_type": "execute_result",
          "data": {
            "text/plain": [
              "array([1, 4, 2, 0, 3])"
            ]
          },
          "metadata": {},
          "execution_count": 98
        }
      ]
    },
    {
      "cell_type": "code",
      "source": [
        "datatest['Item_Type'].unique()"
      ],
      "metadata": {
        "colab": {
          "base_uri": "https://localhost:8080/"
        },
        "id": "vl6g-gxIhfcJ",
        "outputId": "b0ecf5ad-a264-4784-af83-9832f6e8ae75"
      },
      "execution_count": 99,
      "outputs": [
        {
          "output_type": "execute_result",
          "data": {
            "text/plain": [
              "array(['Snack Foods', 'Dairy', 'Others', 'Fruits and Vegetables',\n",
              "       'Baking Goods', 'Health and Hygiene', 'Breads', 'Hard Drinks',\n",
              "       'Seafood', 'Soft Drinks', 'Household', 'Frozen Foods', 'Meat',\n",
              "       'Canned', 'Starchy Foods', 'Breakfast'], dtype=object)"
            ]
          },
          "metadata": {},
          "execution_count": 99
        }
      ]
    },
    {
      "cell_type": "code",
      "source": [
        "label_encoder = preprocessing.LabelEncoder()\n",
        "datatest['Item_Type']= label_encoder.fit_transform(datatest['Item_Type'])\n",
        "datatest['Item_Type'].unique()"
      ],
      "metadata": {
        "colab": {
          "base_uri": "https://localhost:8080/"
        },
        "id": "BZKlB1sVhffX",
        "outputId": "f3d464dc-6031-42b2-ca01-c4d6c5bb1025"
      },
      "execution_count": 100,
      "outputs": [
        {
          "output_type": "execute_result",
          "data": {
            "text/plain": [
              "array([13,  4, 11,  6,  0,  8,  1,  7, 12, 14,  9,  5, 10,  3, 15,  2])"
            ]
          },
          "metadata": {},
          "execution_count": 100
        }
      ]
    },
    {
      "cell_type": "code",
      "source": [
        "datatest['Outlet_Identifier'].unique()"
      ],
      "metadata": {
        "colab": {
          "base_uri": "https://localhost:8080/"
        },
        "id": "3V7Lbf0Ticpq",
        "outputId": "0cb1eb3f-4b11-474c-94bf-65eec3dea304"
      },
      "execution_count": 101,
      "outputs": [
        {
          "output_type": "execute_result",
          "data": {
            "text/plain": [
              "array(['OUT049', 'OUT017', 'OUT010', 'OUT027', 'OUT046', 'OUT018',\n",
              "       'OUT045', 'OUT019', 'OUT013', 'OUT035'], dtype=object)"
            ]
          },
          "metadata": {},
          "execution_count": 101
        }
      ]
    },
    {
      "cell_type": "code",
      "source": [
        "label_encoder = preprocessing.LabelEncoder()\n",
        "datatest['Outlet_Identifier']= label_encoder.fit_transform(datatest['Outlet_Identifier'])\n",
        "datatest['Outlet_Identifier'].unique()"
      ],
      "metadata": {
        "colab": {
          "base_uri": "https://localhost:8080/"
        },
        "id": "VJx2uWaficsJ",
        "outputId": "40500432-cc6b-4030-dc90-e5513ba0d580"
      },
      "execution_count": 102,
      "outputs": [
        {
          "output_type": "execute_result",
          "data": {
            "text/plain": [
              "array([9, 2, 0, 5, 8, 3, 7, 4, 1, 6])"
            ]
          },
          "metadata": {},
          "execution_count": 102
        }
      ]
    },
    {
      "cell_type": "code",
      "source": [
        "datatest['Outlet_Size'].unique()"
      ],
      "metadata": {
        "colab": {
          "base_uri": "https://localhost:8080/"
        },
        "id": "wYFl8JWSicxc",
        "outputId": "5467c80b-f231-4e3b-bd3d-a1ce16faee14"
      },
      "execution_count": 103,
      "outputs": [
        {
          "output_type": "execute_result",
          "data": {
            "text/plain": [
              "array(['Medium', 'Small', 'High'], dtype=object)"
            ]
          },
          "metadata": {},
          "execution_count": 103
        }
      ]
    },
    {
      "cell_type": "code",
      "source": [
        "label_encoder = preprocessing.LabelEncoder()\n",
        "datatest['Outlet_Size']= label_encoder.fit_transform(datatest['Outlet_Size'])\n",
        "datatest['Outlet_Size'].unique()"
      ],
      "metadata": {
        "colab": {
          "base_uri": "https://localhost:8080/"
        },
        "id": "MuslK9zEjMFa",
        "outputId": "1741babe-66cf-4ba5-ab53-9be6a2c72d1c"
      },
      "execution_count": 108,
      "outputs": [
        {
          "output_type": "execute_result",
          "data": {
            "text/plain": [
              "array([1, 2, 0])"
            ]
          },
          "metadata": {},
          "execution_count": 108
        }
      ]
    },
    {
      "cell_type": "code",
      "source": [
        "label_encoder = preprocessing.LabelEncoder()\n",
        "datatest['Outlet_Location_Type']= label_encoder.fit_transform(datatest['Outlet_Location_Type'])\n",
        "datatest['Outlet_Location_Type'].unique()"
      ],
      "metadata": {
        "colab": {
          "base_uri": "https://localhost:8080/"
        },
        "id": "8th5SGmoicz7",
        "outputId": "17640758-f285-4c28-8dd2-7a772de6272d"
      },
      "execution_count": 104,
      "outputs": [
        {
          "output_type": "execute_result",
          "data": {
            "text/plain": [
              "array([0, 1, 2])"
            ]
          },
          "metadata": {},
          "execution_count": 104
        }
      ]
    },
    {
      "cell_type": "code",
      "source": [
        "datatest['Outlet_Type'].unique()"
      ],
      "metadata": {
        "colab": {
          "base_uri": "https://localhost:8080/"
        },
        "id": "QP8N1hyuic3b",
        "outputId": "99b9bebf-99cc-43ab-e173-fc4c51a21846"
      },
      "execution_count": 105,
      "outputs": [
        {
          "output_type": "execute_result",
          "data": {
            "text/plain": [
              "array(['Supermarket Type1', 'Grocery Store', 'Supermarket Type3',\n",
              "       'Supermarket Type2'], dtype=object)"
            ]
          },
          "metadata": {},
          "execution_count": 105
        }
      ]
    },
    {
      "cell_type": "code",
      "source": [
        "label_encoder = preprocessing.LabelEncoder()\n",
        "datatest['Outlet_Type']= label_encoder.fit_transform(datatest['Outlet_Type'])\n",
        "datatest['Outlet_Type'].unique()"
      ],
      "metadata": {
        "colab": {
          "base_uri": "https://localhost:8080/"
        },
        "id": "RHsIwubbi0XV",
        "outputId": "a9aa5df1-e649-4b73-e785-1ff3aecfce37"
      },
      "execution_count": 106,
      "outputs": [
        {
          "output_type": "execute_result",
          "data": {
            "text/plain": [
              "array([1, 0, 3, 2])"
            ]
          },
          "metadata": {},
          "execution_count": 106
        }
      ]
    },
    {
      "cell_type": "code",
      "source": [
        "datatest.info()"
      ],
      "metadata": {
        "colab": {
          "base_uri": "https://localhost:8080/"
        },
        "id": "e9GKP3CMi0Zi",
        "outputId": "bdac5b67-baab-4778-b19c-a9d5f7e7cca7"
      },
      "execution_count": 110,
      "outputs": [
        {
          "output_type": "stream",
          "name": "stdout",
          "text": [
            "<class 'pandas.core.frame.DataFrame'>\n",
            "RangeIndex: 5681 entries, 0 to 5680\n",
            "Data columns (total 11 columns):\n",
            " #   Column                     Non-Null Count  Dtype  \n",
            "---  ------                     --------------  -----  \n",
            " 0   Item_Identifier            5681 non-null   int64  \n",
            " 1   Item_Weight                5681 non-null   float64\n",
            " 2   Item_Fat_Content           5681 non-null   int64  \n",
            " 3   Item_Visibility            5681 non-null   float64\n",
            " 4   Item_Type                  5681 non-null   int64  \n",
            " 5   Item_MRP                   5681 non-null   float64\n",
            " 6   Outlet_Identifier          5681 non-null   int64  \n",
            " 7   Outlet_Establishment_Year  5681 non-null   int64  \n",
            " 8   Outlet_Size                5681 non-null   int64  \n",
            " 9   Outlet_Location_Type       5681 non-null   int64  \n",
            " 10  Outlet_Type                5681 non-null   int64  \n",
            "dtypes: float64(3), int64(8)\n",
            "memory usage: 488.3 KB\n"
          ]
        }
      ]
    },
    {
      "cell_type": "code",
      "source": [
        "# Define the fixed number to subtract\n",
        "fixed_number = 2013\n",
        "\n",
        "# Subtract the fixed number from the Outlet_Establishment_Year column\n",
        "datatest['Outlet_Establishment_Year'] =   fixed_number - datatest['Outlet_Establishment_Year']\n"
      ],
      "metadata": {
        "id": "pL0QSyXOi0dA"
      },
      "execution_count": 114,
      "outputs": []
    },
    {
      "cell_type": "code",
      "source": [
        "datatest.head()"
      ],
      "metadata": {
        "colab": {
          "base_uri": "https://localhost:8080/",
          "height": 206
        },
        "id": "EPRowzfhjj0a",
        "outputId": "2c3877dd-1b4c-4069-99e3-910d3541b541"
      },
      "execution_count": 115,
      "outputs": [
        {
          "output_type": "execute_result",
          "data": {
            "text/plain": [
              "   Item_Identifier  Item_Weight  Item_Fat_Content  Item_Visibility  Item_Type  \\\n",
              "0             1103       20.750                 1         0.007565         13   \n",
              "1             1067        8.300                 4         0.038428          4   \n",
              "2             1406       14.600                 1         0.099575         11   \n",
              "3              809        7.315                 1         0.015388         13   \n",
              "4             1184       12.695                 2         0.118599          4   \n",
              "\n",
              "   Item_MRP  Outlet_Identifier  Outlet_Establishment_Year  Outlet_Size  \\\n",
              "0  107.8622                  9                         14            1   \n",
              "1   87.3198                  2                          6            1   \n",
              "2  241.7538                  0                         15            1   \n",
              "3  155.0340                  2                          6            1   \n",
              "4  234.2300                  5                         28            1   \n",
              "\n",
              "   Outlet_Location_Type  Outlet_Type  \n",
              "0                     0            1  \n",
              "1                     1            1  \n",
              "2                     2            0  \n",
              "3                     1            1  \n",
              "4                     2            3  "
            ],
            "text/html": [
              "\n",
              "  <div id=\"df-8a7db567-fd0d-4d15-9ebf-05b41faf25d8\">\n",
              "    <div class=\"colab-df-container\">\n",
              "      <div>\n",
              "<style scoped>\n",
              "    .dataframe tbody tr th:only-of-type {\n",
              "        vertical-align: middle;\n",
              "    }\n",
              "\n",
              "    .dataframe tbody tr th {\n",
              "        vertical-align: top;\n",
              "    }\n",
              "\n",
              "    .dataframe thead th {\n",
              "        text-align: right;\n",
              "    }\n",
              "</style>\n",
              "<table border=\"1\" class=\"dataframe\">\n",
              "  <thead>\n",
              "    <tr style=\"text-align: right;\">\n",
              "      <th></th>\n",
              "      <th>Item_Identifier</th>\n",
              "      <th>Item_Weight</th>\n",
              "      <th>Item_Fat_Content</th>\n",
              "      <th>Item_Visibility</th>\n",
              "      <th>Item_Type</th>\n",
              "      <th>Item_MRP</th>\n",
              "      <th>Outlet_Identifier</th>\n",
              "      <th>Outlet_Establishment_Year</th>\n",
              "      <th>Outlet_Size</th>\n",
              "      <th>Outlet_Location_Type</th>\n",
              "      <th>Outlet_Type</th>\n",
              "    </tr>\n",
              "  </thead>\n",
              "  <tbody>\n",
              "    <tr>\n",
              "      <th>0</th>\n",
              "      <td>1103</td>\n",
              "      <td>20.750</td>\n",
              "      <td>1</td>\n",
              "      <td>0.007565</td>\n",
              "      <td>13</td>\n",
              "      <td>107.8622</td>\n",
              "      <td>9</td>\n",
              "      <td>14</td>\n",
              "      <td>1</td>\n",
              "      <td>0</td>\n",
              "      <td>1</td>\n",
              "    </tr>\n",
              "    <tr>\n",
              "      <th>1</th>\n",
              "      <td>1067</td>\n",
              "      <td>8.300</td>\n",
              "      <td>4</td>\n",
              "      <td>0.038428</td>\n",
              "      <td>4</td>\n",
              "      <td>87.3198</td>\n",
              "      <td>2</td>\n",
              "      <td>6</td>\n",
              "      <td>1</td>\n",
              "      <td>1</td>\n",
              "      <td>1</td>\n",
              "    </tr>\n",
              "    <tr>\n",
              "      <th>2</th>\n",
              "      <td>1406</td>\n",
              "      <td>14.600</td>\n",
              "      <td>1</td>\n",
              "      <td>0.099575</td>\n",
              "      <td>11</td>\n",
              "      <td>241.7538</td>\n",
              "      <td>0</td>\n",
              "      <td>15</td>\n",
              "      <td>1</td>\n",
              "      <td>2</td>\n",
              "      <td>0</td>\n",
              "    </tr>\n",
              "    <tr>\n",
              "      <th>3</th>\n",
              "      <td>809</td>\n",
              "      <td>7.315</td>\n",
              "      <td>1</td>\n",
              "      <td>0.015388</td>\n",
              "      <td>13</td>\n",
              "      <td>155.0340</td>\n",
              "      <td>2</td>\n",
              "      <td>6</td>\n",
              "      <td>1</td>\n",
              "      <td>1</td>\n",
              "      <td>1</td>\n",
              "    </tr>\n",
              "    <tr>\n",
              "      <th>4</th>\n",
              "      <td>1184</td>\n",
              "      <td>12.695</td>\n",
              "      <td>2</td>\n",
              "      <td>0.118599</td>\n",
              "      <td>4</td>\n",
              "      <td>234.2300</td>\n",
              "      <td>5</td>\n",
              "      <td>28</td>\n",
              "      <td>1</td>\n",
              "      <td>2</td>\n",
              "      <td>3</td>\n",
              "    </tr>\n",
              "  </tbody>\n",
              "</table>\n",
              "</div>\n",
              "      <button class=\"colab-df-convert\" onclick=\"convertToInteractive('df-8a7db567-fd0d-4d15-9ebf-05b41faf25d8')\"\n",
              "              title=\"Convert this dataframe to an interactive table.\"\n",
              "              style=\"display:none;\">\n",
              "        \n",
              "  <svg xmlns=\"http://www.w3.org/2000/svg\" height=\"24px\"viewBox=\"0 0 24 24\"\n",
              "       width=\"24px\">\n",
              "    <path d=\"M0 0h24v24H0V0z\" fill=\"none\"/>\n",
              "    <path d=\"M18.56 5.44l.94 2.06.94-2.06 2.06-.94-2.06-.94-.94-2.06-.94 2.06-2.06.94zm-11 1L8.5 8.5l.94-2.06 2.06-.94-2.06-.94L8.5 2.5l-.94 2.06-2.06.94zm10 10l.94 2.06.94-2.06 2.06-.94-2.06-.94-.94-2.06-.94 2.06-2.06.94z\"/><path d=\"M17.41 7.96l-1.37-1.37c-.4-.4-.92-.59-1.43-.59-.52 0-1.04.2-1.43.59L10.3 9.45l-7.72 7.72c-.78.78-.78 2.05 0 2.83L4 21.41c.39.39.9.59 1.41.59.51 0 1.02-.2 1.41-.59l7.78-7.78 2.81-2.81c.8-.78.8-2.07 0-2.86zM5.41 20L4 18.59l7.72-7.72 1.47 1.35L5.41 20z\"/>\n",
              "  </svg>\n",
              "      </button>\n",
              "      \n",
              "  <style>\n",
              "    .colab-df-container {\n",
              "      display:flex;\n",
              "      flex-wrap:wrap;\n",
              "      gap: 12px;\n",
              "    }\n",
              "\n",
              "    .colab-df-convert {\n",
              "      background-color: #E8F0FE;\n",
              "      border: none;\n",
              "      border-radius: 50%;\n",
              "      cursor: pointer;\n",
              "      display: none;\n",
              "      fill: #1967D2;\n",
              "      height: 32px;\n",
              "      padding: 0 0 0 0;\n",
              "      width: 32px;\n",
              "    }\n",
              "\n",
              "    .colab-df-convert:hover {\n",
              "      background-color: #E2EBFA;\n",
              "      box-shadow: 0px 1px 2px rgba(60, 64, 67, 0.3), 0px 1px 3px 1px rgba(60, 64, 67, 0.15);\n",
              "      fill: #174EA6;\n",
              "    }\n",
              "\n",
              "    [theme=dark] .colab-df-convert {\n",
              "      background-color: #3B4455;\n",
              "      fill: #D2E3FC;\n",
              "    }\n",
              "\n",
              "    [theme=dark] .colab-df-convert:hover {\n",
              "      background-color: #434B5C;\n",
              "      box-shadow: 0px 1px 3px 1px rgba(0, 0, 0, 0.15);\n",
              "      filter: drop-shadow(0px 1px 2px rgba(0, 0, 0, 0.3));\n",
              "      fill: #FFFFFF;\n",
              "    }\n",
              "  </style>\n",
              "\n",
              "      <script>\n",
              "        const buttonEl =\n",
              "          document.querySelector('#df-8a7db567-fd0d-4d15-9ebf-05b41faf25d8 button.colab-df-convert');\n",
              "        buttonEl.style.display =\n",
              "          google.colab.kernel.accessAllowed ? 'block' : 'none';\n",
              "\n",
              "        async function convertToInteractive(key) {\n",
              "          const element = document.querySelector('#df-8a7db567-fd0d-4d15-9ebf-05b41faf25d8');\n",
              "          const dataTable =\n",
              "            await google.colab.kernel.invokeFunction('convertToInteractive',\n",
              "                                                     [key], {});\n",
              "          if (!dataTable) return;\n",
              "\n",
              "          const docLinkHtml = 'Like what you see? Visit the ' +\n",
              "            '<a target=\"_blank\" href=https://colab.research.google.com/notebooks/data_table.ipynb>data table notebook</a>'\n",
              "            + ' to learn more about interactive tables.';\n",
              "          element.innerHTML = '';\n",
              "          dataTable['output_type'] = 'display_data';\n",
              "          await google.colab.output.renderOutput(dataTable, element);\n",
              "          const docLink = document.createElement('div');\n",
              "          docLink.innerHTML = docLinkHtml;\n",
              "          element.appendChild(docLink);\n",
              "        }\n",
              "      </script>\n",
              "    </div>\n",
              "  </div>\n",
              "  "
            ]
          },
          "metadata": {},
          "execution_count": 115
        }
      ]
    },
    {
      "cell_type": "code",
      "source": [
        "datatest.drop(['Item_Identifier'],axis=1,inplace = True)"
      ],
      "metadata": {
        "id": "DbCz0iP7jr58"
      },
      "execution_count": 116,
      "outputs": []
    },
    {
      "cell_type": "code",
      "source": [
        "datatest.drop(['Outlet_Identifier'],axis=1,inplace = True)"
      ],
      "metadata": {
        "id": "ZeJsC1Gnjr9b"
      },
      "execution_count": 118,
      "outputs": []
    },
    {
      "cell_type": "code",
      "source": [
        "datatest.drop(['Item_Weight'],axis=1,inplace = True)"
      ],
      "metadata": {
        "id": "7J6FivCokAao"
      },
      "execution_count": 119,
      "outputs": []
    },
    {
      "cell_type": "code",
      "source": [
        "Xtest = datatest"
      ],
      "metadata": {
        "id": "j4pJJRXkkAeD"
      },
      "execution_count": 120,
      "outputs": []
    },
    {
      "cell_type": "markdown",
      "source": [
        "# prediction"
      ],
      "metadata": {
        "id": "R-nkBMXHvOG4"
      }
    },
    {
      "cell_type": "code",
      "source": [
        "\n",
        "# Make predictions on the new dataset\n",
        "predictions = model.predict(Xtest)\n",
        "\n",
        "# Add the predictions to the new dataset\n",
        "new_data['predictions'] = predictions\n",
        "\n",
        "# Save the new dataset with predictions\n",
        "new_data.to_csv('new_data_with_predictions.csv', index=False)"
      ],
      "metadata": {
        "id": "yAbUu0CBkyTF"
      },
      "execution_count": null,
      "outputs": []
    },
    {
      "cell_type": "code",
      "source": [
        "from sklearn.ensemble import GradientBoostingRegressor\n",
        "\n",
        "model = GradientBoostingRegressor(max_depth=3, learning_rate=0.1, n_estimators=100)\n",
        "model.fit(x_train, y_train)\n",
        "\n",
        "accuracy = model.score(x_test, y_test)\n",
        "predictions = model.predict(Xtest)\n",
        "print('Accuracy:', accuracy)\n",
        "datatest['predictions'] = predictions\n",
        "\n"
      ],
      "metadata": {
        "colab": {
          "base_uri": "https://localhost:8080/"
        },
        "id": "qde9vtXwkyWc",
        "outputId": "506dc320-ca24-4510-88f3-5bb1102538bf"
      },
      "execution_count": 121,
      "outputs": [
        {
          "output_type": "stream",
          "name": "stdout",
          "text": [
            "Accuracy: 0.6190030202163369\n"
          ]
        }
      ]
    },
    {
      "cell_type": "code",
      "source": [
        "datatest['predictions'].head()"
      ],
      "metadata": {
        "colab": {
          "base_uri": "https://localhost:8080/"
        },
        "id": "a81a4M1rmUL-",
        "outputId": "bddf79ee-f1ce-4a93-fdf0-507d2f642d3c"
      },
      "execution_count": 122,
      "outputs": [
        {
          "output_type": "execute_result",
          "data": {
            "text/plain": [
              "0    1741.939093\n",
              "1    1374.106305\n",
              "2     626.930367\n",
              "3    2577.676395\n",
              "4    4975.475722\n",
              "Name: predictions, dtype: float64"
            ]
          },
          "metadata": {},
          "execution_count": 122
        }
      ]
    },
    {
      "cell_type": "code",
      "source": [
        "datatest.head(10)"
      ],
      "metadata": {
        "colab": {
          "base_uri": "https://localhost:8080/",
          "height": 363
        },
        "id": "FCEeF5szmknl",
        "outputId": "ce84ac79-5413-4128-989e-8f97ef24a63c"
      },
      "execution_count": 123,
      "outputs": [
        {
          "output_type": "execute_result",
          "data": {
            "text/plain": [
              "   Item_Fat_Content  Item_Visibility  Item_Type  Item_MRP  \\\n",
              "0                 1         0.007565         13  107.8622   \n",
              "1                 4         0.038428          4   87.3198   \n",
              "2                 1         0.099575         11  241.7538   \n",
              "3                 1         0.015388         13  155.0340   \n",
              "4                 2         0.118599          4  234.2300   \n",
              "5                 2         0.063817          6  117.1492   \n",
              "6                 2         0.082602          0   50.1034   \n",
              "7                 1         0.015782          0   81.0592   \n",
              "8                 2         0.123365         13   95.7436   \n",
              "9                 1         0.005698          0  186.8924   \n",
              "\n",
              "   Outlet_Establishment_Year  Outlet_Size  Outlet_Location_Type  Outlet_Type  \\\n",
              "0                         14            1                     0            1   \n",
              "1                          6            1                     1            1   \n",
              "2                         15            1                     2            0   \n",
              "3                          6            1                     1            1   \n",
              "4                         28            1                     2            3   \n",
              "5                         16            2                     0            1   \n",
              "6                          4            1                     2            2   \n",
              "7                         28            1                     2            3   \n",
              "8                         11            1                     1            1   \n",
              "9                          6            1                     1            1   \n",
              "\n",
              "   predictions  \n",
              "0  1741.939093  \n",
              "1  1374.106305  \n",
              "2   626.930367  \n",
              "3  2577.676395  \n",
              "4  4975.475722  \n",
              "5  1832.779091  \n",
              "6   629.439208  \n",
              "7  2118.848085  \n",
              "8  1513.964467  \n",
              "9  3232.375852  "
            ],
            "text/html": [
              "\n",
              "  <div id=\"df-84a9a17e-cc18-4629-b58f-60f8ad5693d7\">\n",
              "    <div class=\"colab-df-container\">\n",
              "      <div>\n",
              "<style scoped>\n",
              "    .dataframe tbody tr th:only-of-type {\n",
              "        vertical-align: middle;\n",
              "    }\n",
              "\n",
              "    .dataframe tbody tr th {\n",
              "        vertical-align: top;\n",
              "    }\n",
              "\n",
              "    .dataframe thead th {\n",
              "        text-align: right;\n",
              "    }\n",
              "</style>\n",
              "<table border=\"1\" class=\"dataframe\">\n",
              "  <thead>\n",
              "    <tr style=\"text-align: right;\">\n",
              "      <th></th>\n",
              "      <th>Item_Fat_Content</th>\n",
              "      <th>Item_Visibility</th>\n",
              "      <th>Item_Type</th>\n",
              "      <th>Item_MRP</th>\n",
              "      <th>Outlet_Establishment_Year</th>\n",
              "      <th>Outlet_Size</th>\n",
              "      <th>Outlet_Location_Type</th>\n",
              "      <th>Outlet_Type</th>\n",
              "      <th>predictions</th>\n",
              "    </tr>\n",
              "  </thead>\n",
              "  <tbody>\n",
              "    <tr>\n",
              "      <th>0</th>\n",
              "      <td>1</td>\n",
              "      <td>0.007565</td>\n",
              "      <td>13</td>\n",
              "      <td>107.8622</td>\n",
              "      <td>14</td>\n",
              "      <td>1</td>\n",
              "      <td>0</td>\n",
              "      <td>1</td>\n",
              "      <td>1741.939093</td>\n",
              "    </tr>\n",
              "    <tr>\n",
              "      <th>1</th>\n",
              "      <td>4</td>\n",
              "      <td>0.038428</td>\n",
              "      <td>4</td>\n",
              "      <td>87.3198</td>\n",
              "      <td>6</td>\n",
              "      <td>1</td>\n",
              "      <td>1</td>\n",
              "      <td>1</td>\n",
              "      <td>1374.106305</td>\n",
              "    </tr>\n",
              "    <tr>\n",
              "      <th>2</th>\n",
              "      <td>1</td>\n",
              "      <td>0.099575</td>\n",
              "      <td>11</td>\n",
              "      <td>241.7538</td>\n",
              "      <td>15</td>\n",
              "      <td>1</td>\n",
              "      <td>2</td>\n",
              "      <td>0</td>\n",
              "      <td>626.930367</td>\n",
              "    </tr>\n",
              "    <tr>\n",
              "      <th>3</th>\n",
              "      <td>1</td>\n",
              "      <td>0.015388</td>\n",
              "      <td>13</td>\n",
              "      <td>155.0340</td>\n",
              "      <td>6</td>\n",
              "      <td>1</td>\n",
              "      <td>1</td>\n",
              "      <td>1</td>\n",
              "      <td>2577.676395</td>\n",
              "    </tr>\n",
              "    <tr>\n",
              "      <th>4</th>\n",
              "      <td>2</td>\n",
              "      <td>0.118599</td>\n",
              "      <td>4</td>\n",
              "      <td>234.2300</td>\n",
              "      <td>28</td>\n",
              "      <td>1</td>\n",
              "      <td>2</td>\n",
              "      <td>3</td>\n",
              "      <td>4975.475722</td>\n",
              "    </tr>\n",
              "    <tr>\n",
              "      <th>5</th>\n",
              "      <td>2</td>\n",
              "      <td>0.063817</td>\n",
              "      <td>6</td>\n",
              "      <td>117.1492</td>\n",
              "      <td>16</td>\n",
              "      <td>2</td>\n",
              "      <td>0</td>\n",
              "      <td>1</td>\n",
              "      <td>1832.779091</td>\n",
              "    </tr>\n",
              "    <tr>\n",
              "      <th>6</th>\n",
              "      <td>2</td>\n",
              "      <td>0.082602</td>\n",
              "      <td>0</td>\n",
              "      <td>50.1034</td>\n",
              "      <td>4</td>\n",
              "      <td>1</td>\n",
              "      <td>2</td>\n",
              "      <td>2</td>\n",
              "      <td>629.439208</td>\n",
              "    </tr>\n",
              "    <tr>\n",
              "      <th>7</th>\n",
              "      <td>1</td>\n",
              "      <td>0.015782</td>\n",
              "      <td>0</td>\n",
              "      <td>81.0592</td>\n",
              "      <td>28</td>\n",
              "      <td>1</td>\n",
              "      <td>2</td>\n",
              "      <td>3</td>\n",
              "      <td>2118.848085</td>\n",
              "    </tr>\n",
              "    <tr>\n",
              "      <th>8</th>\n",
              "      <td>2</td>\n",
              "      <td>0.123365</td>\n",
              "      <td>13</td>\n",
              "      <td>95.7436</td>\n",
              "      <td>11</td>\n",
              "      <td>1</td>\n",
              "      <td>1</td>\n",
              "      <td>1</td>\n",
              "      <td>1513.964467</td>\n",
              "    </tr>\n",
              "    <tr>\n",
              "      <th>9</th>\n",
              "      <td>1</td>\n",
              "      <td>0.005698</td>\n",
              "      <td>0</td>\n",
              "      <td>186.8924</td>\n",
              "      <td>6</td>\n",
              "      <td>1</td>\n",
              "      <td>1</td>\n",
              "      <td>1</td>\n",
              "      <td>3232.375852</td>\n",
              "    </tr>\n",
              "  </tbody>\n",
              "</table>\n",
              "</div>\n",
              "      <button class=\"colab-df-convert\" onclick=\"convertToInteractive('df-84a9a17e-cc18-4629-b58f-60f8ad5693d7')\"\n",
              "              title=\"Convert this dataframe to an interactive table.\"\n",
              "              style=\"display:none;\">\n",
              "        \n",
              "  <svg xmlns=\"http://www.w3.org/2000/svg\" height=\"24px\"viewBox=\"0 0 24 24\"\n",
              "       width=\"24px\">\n",
              "    <path d=\"M0 0h24v24H0V0z\" fill=\"none\"/>\n",
              "    <path d=\"M18.56 5.44l.94 2.06.94-2.06 2.06-.94-2.06-.94-.94-2.06-.94 2.06-2.06.94zm-11 1L8.5 8.5l.94-2.06 2.06-.94-2.06-.94L8.5 2.5l-.94 2.06-2.06.94zm10 10l.94 2.06.94-2.06 2.06-.94-2.06-.94-.94-2.06-.94 2.06-2.06.94z\"/><path d=\"M17.41 7.96l-1.37-1.37c-.4-.4-.92-.59-1.43-.59-.52 0-1.04.2-1.43.59L10.3 9.45l-7.72 7.72c-.78.78-.78 2.05 0 2.83L4 21.41c.39.39.9.59 1.41.59.51 0 1.02-.2 1.41-.59l7.78-7.78 2.81-2.81c.8-.78.8-2.07 0-2.86zM5.41 20L4 18.59l7.72-7.72 1.47 1.35L5.41 20z\"/>\n",
              "  </svg>\n",
              "      </button>\n",
              "      \n",
              "  <style>\n",
              "    .colab-df-container {\n",
              "      display:flex;\n",
              "      flex-wrap:wrap;\n",
              "      gap: 12px;\n",
              "    }\n",
              "\n",
              "    .colab-df-convert {\n",
              "      background-color: #E8F0FE;\n",
              "      border: none;\n",
              "      border-radius: 50%;\n",
              "      cursor: pointer;\n",
              "      display: none;\n",
              "      fill: #1967D2;\n",
              "      height: 32px;\n",
              "      padding: 0 0 0 0;\n",
              "      width: 32px;\n",
              "    }\n",
              "\n",
              "    .colab-df-convert:hover {\n",
              "      background-color: #E2EBFA;\n",
              "      box-shadow: 0px 1px 2px rgba(60, 64, 67, 0.3), 0px 1px 3px 1px rgba(60, 64, 67, 0.15);\n",
              "      fill: #174EA6;\n",
              "    }\n",
              "\n",
              "    [theme=dark] .colab-df-convert {\n",
              "      background-color: #3B4455;\n",
              "      fill: #D2E3FC;\n",
              "    }\n",
              "\n",
              "    [theme=dark] .colab-df-convert:hover {\n",
              "      background-color: #434B5C;\n",
              "      box-shadow: 0px 1px 3px 1px rgba(0, 0, 0, 0.15);\n",
              "      filter: drop-shadow(0px 1px 2px rgba(0, 0, 0, 0.3));\n",
              "      fill: #FFFFFF;\n",
              "    }\n",
              "  </style>\n",
              "\n",
              "      <script>\n",
              "        const buttonEl =\n",
              "          document.querySelector('#df-84a9a17e-cc18-4629-b58f-60f8ad5693d7 button.colab-df-convert');\n",
              "        buttonEl.style.display =\n",
              "          google.colab.kernel.accessAllowed ? 'block' : 'none';\n",
              "\n",
              "        async function convertToInteractive(key) {\n",
              "          const element = document.querySelector('#df-84a9a17e-cc18-4629-b58f-60f8ad5693d7');\n",
              "          const dataTable =\n",
              "            await google.colab.kernel.invokeFunction('convertToInteractive',\n",
              "                                                     [key], {});\n",
              "          if (!dataTable) return;\n",
              "\n",
              "          const docLinkHtml = 'Like what you see? Visit the ' +\n",
              "            '<a target=\"_blank\" href=https://colab.research.google.com/notebooks/data_table.ipynb>data table notebook</a>'\n",
              "            + ' to learn more about interactive tables.';\n",
              "          element.innerHTML = '';\n",
              "          dataTable['output_type'] = 'display_data';\n",
              "          await google.colab.output.renderOutput(dataTable, element);\n",
              "          const docLink = document.createElement('div');\n",
              "          docLink.innerHTML = docLinkHtml;\n",
              "          element.appendChild(docLink);\n",
              "        }\n",
              "      </script>\n",
              "    </div>\n",
              "  </div>\n",
              "  "
            ]
          },
          "metadata": {},
          "execution_count": 123
        }
      ]
    }
  ]
}